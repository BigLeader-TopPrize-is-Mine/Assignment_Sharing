{
 "cells": [
  {
   "cell_type": "markdown",
   "metadata": {},
   "source": [
    "# **NLP 2일차**\n",
    "## 과제 2번\n",
    "### 1. 뉴스 기사에서 특정 문자들만 추출"
   ]
  },
  {
   "cell_type": "code",
   "execution_count": 40,
   "metadata": {},
   "outputs": [
    {
     "name": "stdout",
     "output_type": "stream",
     "text": [
      "['1-0', '0-0', '2-0']\n"
     ]
    }
   ],
   "source": [
    "import re\n",
    "import requests\n",
    "from bs4 import BeautifulSoup as bs\n",
    "url = \"https://edition.cnn.com/2023/07/24/football/new-zealand-switzerland-norway-womens-world-cup-2023-spt-intl/index.html\"\n",
    "\n",
    "response = requests.get(url)\n",
    "r1 = response.content\n",
    "\n",
    "soup = bs(r1, 'html.parser')\n",
    "article_origin = soup.find('div',class_='article__content').get_text()\n",
    "\n",
    "# print(article_origin)\n",
    "# for elem in article_origin.split(\"\\n\"):\n",
    "#     if len(elem.split()) != 0:\n",
    "#         for item in elem.split():\n",
    "#             res.append(item)\n",
    "\n",
    "pattern = re.compile('[0-9]+-+[0-9]')\n",
    "print(pattern.findall(article_origin))\n"
   ]
  },
  {
   "cell_type": "markdown",
   "metadata": {},
   "source": [
    "### 2. Wine Mag Data"
   ]
  },
  {
   "cell_type": "code",
   "execution_count": 70,
   "metadata": {},
   "outputs": [
    {
     "name": "stderr",
     "output_type": "stream",
     "text": [
      "[nltk_data] Downloading package punkt to\n",
      "[nltk_data]     /Users/choejaehun/nltk_data...\n",
      "[nltk_data]   Package punkt is already up-to-date!\n",
      "[nltk_data] Downloading package stopwords to\n",
      "[nltk_data]     /Users/choejaehun/nltk_data...\n",
      "[nltk_data]   Package stopwords is already up-to-date!\n"
     ]
    },
    {
     "data": {
      "text/plain": [
       "True"
      ]
     },
     "execution_count": 70,
     "metadata": {},
     "output_type": "execute_result"
    }
   ],
   "source": [
    "# Importing Module\n",
    "import numpy as np\n",
    "import pandas as pd\n",
    "from sklearn.feature_extraction.text import CountVectorizer, TfidfVectorizer\n",
    "from sklearn.metrics.pairwise import cosine_similarity\n",
    "import nltk\n",
    "from nltk.tokenize import word_tokenize\n",
    "from nltk.corpus import stopwords\n",
    "nltk.download('punkt')\n",
    "nltk.download('stopwords')\n"
   ]
  },
  {
   "cell_type": "code",
   "execution_count": 71,
   "metadata": {},
   "outputs": [],
   "source": [
    "# 사용 데이터 로드\n",
    "path = './winemag-data-130k-v2.csv'\n",
    "df = pd.read_csv(path)"
   ]
  },
  {
   "cell_type": "code",
   "execution_count": 72,
   "metadata": {},
   "outputs": [],
   "source": [
    "# 새로운 데이터 프레임 생성후 범위조정한 데이터 저장\n",
    "mydata = df.head(5000)"
   ]
  },
  {
   "cell_type": "code",
   "execution_count": 73,
   "metadata": {},
   "outputs": [
    {
     "data": {
      "text/plain": [
       "Unnamed: 0                  0\n",
       "country                     3\n",
       "description                 0\n",
       "designation              1477\n",
       "points                      0\n",
       "price                     343\n",
       "province                    3\n",
       "region_1                  792\n",
       "region_2                 3044\n",
       "taster_name              1031\n",
       "taster_twitter_handle    1206\n",
       "title                       0\n",
       "variety                     0\n",
       "winery                      0\n",
       "dtype: int64"
      ]
     },
     "execution_count": 73,
     "metadata": {},
     "output_type": "execute_result"
    }
   ],
   "source": [
    "# 결측치 확인\n",
    "mydata.isna().sum()"
   ]
  },
  {
   "cell_type": "code",
   "execution_count": 74,
   "metadata": {},
   "outputs": [],
   "source": [
    "# 반복문을 이용한 토크나이징 및 전처리\n",
    "# for i, wine_desc in enumerate(mydata['description']):\n",
    "#     words = word_tokenize(wine_desc) # 토크나이징\n",
    "#     clean_word = []\n",
    "#     for word in words:\n",
    "#         word = word.lower() # 소문자로 처리\n",
    "#         if word not in stopwords.words('english'): #불용어 제거\n",
    "#             clean_word.append(word)\n",
    "    \n",
    "#     mydata[i] = ' '.join(clean_word) # 전처리된 문장을 저장"
   ]
  },
  {
   "cell_type": "code",
   "execution_count": 75,
   "metadata": {},
   "outputs": [
    {
     "data": {
      "text/plain": [
       "array([[0, 0, 0, ..., 0, 0, 0],\n",
       "       [0, 0, 0, ..., 0, 0, 0],\n",
       "       [0, 0, 0, ..., 0, 0, 0],\n",
       "       ...,\n",
       "       [0, 0, 0, ..., 0, 0, 0],\n",
       "       [0, 0, 0, ..., 0, 0, 0],\n",
       "       [0, 0, 0, ..., 0, 0, 0]])"
      ]
     },
     "execution_count": 75,
     "metadata": {},
     "output_type": "execute_result"
    }
   ],
   "source": [
    "# CountVectorizer 객체 생성후 빈도수 3이하 제거\n",
    "v = CountVectorizer(min_df=3)\n",
    "v.fit_transform(mydata['description']).toarray()"
   ]
  },
  {
   "cell_type": "code",
   "execution_count": 76,
   "metadata": {},
   "outputs": [],
   "source": [
    "# TfidfVectorizer 객체 생성후 영어 불용어사전 참조후 제거\n",
    "tfidf = TfidfVectorizer(stop_words='english')"
   ]
  },
  {
   "cell_type": "code",
   "execution_count": 77,
   "metadata": {},
   "outputs": [
    {
     "name": "stdout",
     "output_type": "stream",
     "text": [
      "tfidf_m.shape : (5000, 8179)\n"
     ]
    }
   ],
   "source": [
    "tfidf_m = tfidf.fit_transform(mydata['description'])\n",
    "tfidf_m.toarray()\n",
    "print(f\"tfidf_m.shape : {tfidf_m.shape}\")"
   ]
  },
  {
   "cell_type": "code",
   "execution_count": 78,
   "metadata": {},
   "outputs": [
    {
     "name": "stdout",
     "output_type": "stream",
     "text": [
      "(5000, 5000)\n"
     ]
    }
   ],
   "source": [
    "# 코사인 유사도 계산\n",
    "cos_sim = cosine_similarity(tfidf_m, tfidf_m)\n",
    "print(cos_sim.shape)"
   ]
  },
  {
   "cell_type": "code",
   "execution_count": 79,
   "metadata": {},
   "outputs": [],
   "source": [
    "data = dict(zip(mydata['title'], mydata.index))\n",
    "idx = data['Nicosia 2013 Vulkà Bianco  (Etna)']"
   ]
  },
  {
   "cell_type": "code",
   "execution_count": 80,
   "metadata": {},
   "outputs": [],
   "source": [
    "def recommend(title, cosine_sim=cos_sim):\n",
    "    idx = data[title]\n",
    "    tmp = cosine_sim[idx]\n",
    "    sim_scores = list(enumerate(cosine_sim[idx]))\n",
    "    ss = sorted(sim_scores, key=lambda x:-x[1])[1:11]\n",
    "\n",
    "    res = [idx[0] for idx in ss]\n",
    "    # print(f\"res : {res}\")\n",
    "    # print(f\"ss : {ss}\")\n",
    "    return df['title'].iloc[res]\n"
   ]
  },
  {
   "cell_type": "code",
   "execution_count": 81,
   "metadata": {},
   "outputs": [
    {
     "data": {
      "text/plain": [
       "49       Vignerons de Bel Air 2011 Eté Indien  (Brouilly)\n",
       "3353    Jean-Marie Challand 2012 Les Tilles  (Mâcon-Vi...\n",
       "3246                 Liebart-Régnier NV Brut  (Champagne)\n",
       "3567                       Domaine de Rome 2015  Sancerre\n",
       "2658          Château Tour de Lagarde 2009  Saint-Émilion\n",
       "4091     Casca Wines 2013 Santos da Casa Red (Alentejano)\n",
       "30      Domaine de la Madone 2012 Nouveau  (Beaujolais...\n",
       "4142    Simonnet-Febvre 2015 Côte de Lechet Premier Cr...\n",
       "4563    Les Vignerons Réunis de Monségur 2014 Château ...\n",
       "1558                        Château Margaux 2009  Margaux\n",
       "Name: title, dtype: object"
      ]
     },
     "execution_count": 81,
     "metadata": {},
     "output_type": "execute_result"
    }
   ],
   "source": [
    "recommend('Simonnet-Febvre 2015  Chablis')"
   ]
  },
  {
   "cell_type": "code",
   "execution_count": null,
   "metadata": {},
   "outputs": [],
   "source": []
  }
 ],
 "metadata": {
  "kernelspec": {
   "display_name": "bigleader",
   "language": "python",
   "name": "python3"
  },
  "language_info": {
   "codemirror_mode": {
    "name": "ipython",
    "version": 3
   },
   "file_extension": ".py",
   "mimetype": "text/x-python",
   "name": "python",
   "nbconvert_exporter": "python",
   "pygments_lexer": "ipython3",
   "version": "3.8.16"
  },
  "orig_nbformat": 4
 },
 "nbformat": 4,
 "nbformat_minor": 2
}
