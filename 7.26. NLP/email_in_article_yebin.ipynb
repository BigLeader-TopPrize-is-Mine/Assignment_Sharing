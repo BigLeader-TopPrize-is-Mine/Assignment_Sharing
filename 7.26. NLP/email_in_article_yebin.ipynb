{
 "cells": [
  {
   "cell_type": "code",
   "execution_count": null,
   "metadata": {},
   "outputs": [],
   "source": [
    "import re\n",
    "# for idx, articles in enumerate(df['article']):\n",
    "#   print(idx, articles.split(\"From: \")[1].split(\" (\" )[0])\n",
    "\n",
    "emails = []\n",
    "df = pd.DataFrame(news.data, columns = ['article'])\n",
    "\n",
    "for idx, article in enumerate(df['article']):\n",
    "  email = re.findall('From: .* \\(', article)\n",
    "  if len(email) != 0:\n",
    "    for elem in email:\n",
    "      targ = elem.split(\"From: \")[1].split(\"(\")[0]\n",
    "      emails.append(targ)\n",
    "\n",
    "print(len(emails))\n",
    "\n",
    "\n",
    "\"\"\"\n",
    "1. From: 부터 Subject: 사이에는 이메일 주소가 있음 ex) lexst@wam\n",
    "    - 이메일 주소를 추출하시오\n",
    "    - str.extract(정규표현식) → 정규 표현식에 부합되는 문자열을 추출\n",
    "    - findall도 가능\n",
    "    - 뉴스기사.split(”From: “)[1].split(”(”)[0]\n",
    "\"\"\"\n"
   ]
  }
 ],
 "metadata": {
  "language_info": {
   "name": "python"
  },
  "orig_nbformat": 4
 },
 "nbformat": 4,
 "nbformat_minor": 2
}
