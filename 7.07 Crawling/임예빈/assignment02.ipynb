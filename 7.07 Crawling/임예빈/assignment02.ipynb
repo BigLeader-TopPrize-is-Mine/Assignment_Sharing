{
 "cells": [
  {
   "cell_type": "code",
   "execution_count": 3,
   "metadata": {},
   "outputs": [],
   "source": [
    "import sys\n",
    "from bs4 import BeautifulSoup\n",
    "import chromedriver_autoinstaller as ca\n",
    "import numpy as np\n",
    "from selenium import webdriver\n",
    "from selenium.webdriver.common.keys import Keys\n",
    "from selenium.webdriver.common.by import By\n",
    "import urllib.request\n",
    "import time, os\n",
    "\n",
    "def get_title(name, no):\n",
    "\n",
    "  # 현재시간 활용 파일 생성\n",
    "  f_name = 'C:/Users/yebin/Documents/BigLeader/crawler/assignment/' + time.strftime(\"%Y%m%d_%H%M%S\") + \"-\" + name + '.txt'\n",
    "\n",
    "  # 크롬 드라이버를 사용해서 웹 브라우저 실행\n",
    "  try:\n",
    "    driver = webdriver.Chrome(ca.install())\n",
    "    driver.get('https://search.naver.com/search.naver?query=' + name + '&nso=&where=blog&sm=tab_opt')\n",
    "  except:\n",
    "    pass\n",
    "\n",
    "  #웹페이지 scroll down (END 키 전송)\n",
    "  scroll = no//30 + 1\n",
    "  for _ in range(scroll):\n",
    "    time.sleep(3)\n",
    "    driver.find_element(By.XPATH, '//body').send_keys(Keys.END) # keys?\n",
    "\n",
    "  # 제목 추출\n",
    "  soup = BeautifulSoup(driver.page_source, 'html.parser')\n",
    "  titles = soup.find('div', id='content').find_all('a', 'api_txt_lines total_tit')\n",
    "\n",
    "  # 저장\n",
    "  orig = sys.stdout\n",
    "\n",
    "  with open(f_name, 'a', encoding='UTF-8') as file:\n",
    "    sys.stdout = file\n",
    "  \n",
    "    for idx, title in enumerate(titles, start = 1): # enumerate 함수\n",
    "      print(title.get_text().strip())\n",
    "\n",
    "      if idx == no:\n",
    "        break\n",
    "\n",
    "  sys.stdout = orig"
   ]
  },
  {
   "cell_type": "code",
   "execution_count": 4,
   "metadata": {},
   "outputs": [],
   "source": [
    "get_title('크롤링', 50)"
   ]
  }
 ],
 "metadata": {
  "kernelspec": {
   "display_name": "base",
   "language": "python",
   "name": "python3"
  },
  "language_info": {
   "codemirror_mode": {
    "name": "ipython",
    "version": 3
   },
   "file_extension": ".py",
   "mimetype": "text/x-python",
   "name": "python",
   "nbconvert_exporter": "python",
   "pygments_lexer": "ipython3",
   "version": "3.9.7"
  },
  "orig_nbformat": 4,
  "vscode": {
   "interpreter": {
    "hash": "105790836edd6ce9dba8ddac723b0664ab4da7017b48f129addc738385b159de"
   }
  }
 },
 "nbformat": 4,
 "nbformat_minor": 2
}
