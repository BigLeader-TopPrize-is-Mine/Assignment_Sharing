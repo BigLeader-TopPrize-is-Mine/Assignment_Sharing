{
 "cells": [
  {
   "cell_type": "code",
   "execution_count": 14,
   "metadata": {},
   "outputs": [
    {
     "name": "stdout",
     "output_type": "stream",
     "text": [
      "우리집 댕댕이 기관지를 위한 강아지 사료 추천\n",
      "강아지 켄넬훈련, 이동장 짖음방지 훈련 성공했어요.\n",
      "강아지 포도, 청포도 먹어도 될까요? 포도씨와 껍질은?\n",
      "강남강아지분양 통해서 맞이한 토이푸들\n",
      "강아지 블루베리 급여량!다량 섭취시 위험한 부분은?\n",
      "애견배변패드 강아지용품 냄새 걱정 끝!\n",
      "강아지사료 닥터독 신제품 강아지그레인프리사료\n",
      "추천하고 싶은 강아지 칼슘제\n",
      "강아지(고양이) 귀 청소 주기, 간편한 방법, 순서\n",
      "강아지 임신 시기 출산전 증상 분만과정 출산 후 관리 방법\n"
     ]
    }
   ],
   "source": [
    "# 1. 필요한 모듈을 로딩합니다.\n",
    "from bs4 import BeautifulSoup\n",
    "import chromedriver_autoinstaller as ca\n",
    "from selenium import webdriver\n",
    "from selenium.webdriver.common.keys import Keys\n",
    "from selenium.webdriver.common.by import By\n",
    "import urllib.request\n",
    "import time, os\n",
    "import ssl\n",
    "import math\n",
    "ssl._create_default_https_context = ssl._create_unverified_context\n",
    "\n",
    "# 2. 사용자에게 필요한 정보를 입력 받습니다.\n",
    "query_txt = input('1.크롤링할 이미지의 키워드?: ')\n",
    "cnt = int(input('2.크롤링 할 건수는?: '))\n",
    "\n",
    "# 3. 크롬 드라이버를 사용해서 웹 브라우저를 실행합니다.\n",
    "driver = webdriver.Chrome()\n",
    "base_link = f'https://search.naver.com/search.naver?query={query_txt}&nso=&where=blog&sm=tab_opt'\n",
    "driver.get(base_link + query_txt)\n",
    "\n",
    "# 4. 웹페이지를 n회 스크롤 다운 합니다. (END 키 전송)\n",
    "n = math.ceil(cnt/30)\n",
    "for i in range(n) :\n",
    "    time.sleep(3)\n",
    "    driver.find_element(By.XPATH,'//body').send_keys(Keys.END)\n",
    "\n",
    "# 5. 이미지 추출하기\n",
    "from bs4 import BeautifulSoup\n",
    "soup = BeautifulSoup(driver.page_source,'html.parser')\n",
    "\n",
    "tmp = 0\n",
    "title = soup.find(\"div\",class_=\"_more_contents_event_base\").find_all(\"a\",class_=\"api_txt_lines total_tit\")\n",
    "for i in title:\n",
    "    print(i.get_text().strip())\n",
    "    tmp += 1\n",
    "    if tmp == cnt :\n",
    "        break\n",
    "    \n",
    "driver.close()"
   ]
  },
  {
   "cell_type": "code",
   "execution_count": null,
   "metadata": {},
   "outputs": [],
   "source": []
  }
 ],
 "metadata": {
  "kernelspec": {
   "display_name": "Python 3",
   "language": "python",
   "name": "python3"
  },
  "language_info": {
   "codemirror_mode": {
    "name": "ipython",
    "version": 3
   },
   "file_extension": ".py",
   "mimetype": "text/x-python",
   "name": "python",
   "nbconvert_exporter": "python",
   "pygments_lexer": "ipython3",
   "version": "3.11.3"
  },
  "orig_nbformat": 4
 },
 "nbformat": 4,
 "nbformat_minor": 2
}
