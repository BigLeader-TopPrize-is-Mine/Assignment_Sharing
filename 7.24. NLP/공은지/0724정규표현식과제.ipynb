{
  "nbformat": 4,
  "nbformat_minor": 0,
  "metadata": {
    "colab": {
      "provenance": []
    },
    "kernelspec": {
      "name": "python3",
      "display_name": "Python 3"
    },
    "language_info": {
      "name": "python"
    }
  },
  "cells": [
    {
      "cell_type": "markdown",
      "source": [
        "### 정규 표현식 사용하기"
      ],
      "metadata": {
        "id": "oRnVPoXxsOkg"
      }
    },
    {
      "cell_type": "markdown",
      "source": [
        "##### 1. 문자열 판단하기"
      ],
      "metadata": {
        "id": "VB9lJjHqsaI6"
      }
    },
    {
      "cell_type": "code",
      "source": [
        "import re"
      ],
      "metadata": {
        "id": "Wl0SftdpsYU8"
      },
      "execution_count": 1,
      "outputs": []
    },
    {
      "cell_type": "code",
      "source": [
        "re.match('Hello', 'Hello world!') # 객체가 반환됨"
      ],
      "metadata": {
        "colab": {
          "base_uri": "https://localhost:8080/"
        },
        "id": "a06acHPGsexf",
        "outputId": "d6687583-eec1-444d-f160-8b52877ea816"
      },
      "execution_count": 3,
      "outputs": [
        {
          "output_type": "execute_result",
          "data": {
            "text/plain": [
              "<re.Match object; span=(0, 5), match='Hello'>"
            ]
          },
          "metadata": {},
          "execution_count": 3
        }
      ]
    },
    {
      "cell_type": "code",
      "source": [
        "re.match('Python','Hello world') # 아무것도 반환 X"
      ],
      "metadata": {
        "id": "pOy1jQ0is3Lt"
      },
      "execution_count": 4,
      "outputs": []
    },
    {
      "cell_type": "code",
      "source": [
        "# 문자역이 맨 앞에 오는지 맨 뒤에 오는지 판단하기\n",
        "re.search('^Hello','Hello, world') # => Hello 가 맨 앞에 오는지 판단해줘"
      ],
      "metadata": {
        "colab": {
          "base_uri": "https://localhost:8080/"
        },
        "id": "vNNc7KS6s-5Q",
        "outputId": "811a9c85-2ad3-40e7-88e4-84c3dd16ee15"
      },
      "execution_count": 5,
      "outputs": [
        {
          "output_type": "execute_result",
          "data": {
            "text/plain": [
              "<re.Match object; span=(0, 5), match='Hello'>"
            ]
          },
          "metadata": {},
          "execution_count": 5
        }
      ]
    },
    {
      "cell_type": "code",
      "source": [
        "re.search('^world','Hello, world')"
      ],
      "metadata": {
        "id": "SwsMFQwDtg6W"
      },
      "execution_count": 7,
      "outputs": []
    },
    {
      "cell_type": "code",
      "source": [
        "re.search('world$','Hello, world')"
      ],
      "metadata": {
        "colab": {
          "base_uri": "https://localhost:8080/"
        },
        "id": "O2buyWYLtmSl",
        "outputId": "8523fe62-a7cf-4654-9a14-6aaaa14593ec"
      },
      "execution_count": 8,
      "outputs": [
        {
          "output_type": "execute_result",
          "data": {
            "text/plain": [
              "<re.Match object; span=(7, 12), match='world'>"
            ]
          },
          "metadata": {},
          "execution_count": 8
        }
      ]
    },
    {
      "cell_type": "code",
      "source": [
        "# 지정된 문자열이 하나라도 포함되는지 판단하기\n",
        "re.match('hello|world','hello')"
      ],
      "metadata": {
        "colab": {
          "base_uri": "https://localhost:8080/"
        },
        "id": "NnFV6WfXttle",
        "outputId": "08abaa39-9ba1-4f21-fc0b-4160fb7589da"
      },
      "execution_count": 9,
      "outputs": [
        {
          "output_type": "execute_result",
          "data": {
            "text/plain": [
              "<re.Match object; span=(0, 5), match='hello'>"
            ]
          },
          "metadata": {},
          "execution_count": 9
        }
      ]
    },
    {
      "cell_type": "markdown",
      "source": [
        "##### 2. 범위 판단하기"
      ],
      "metadata": {
        "id": "IjoXB4-EuEUG"
      }
    },
    {
      "cell_type": "code",
      "source": [
        "re.match('[0-9]*','1234') # 1234 에 0-9 숫자가 0개 이상 있는지"
      ],
      "metadata": {
        "colab": {
          "base_uri": "https://localhost:8080/"
        },
        "id": "FAssamgbt6Sv",
        "outputId": "60918db3-e5a9-47a7-e1e3-a10241318036"
      },
      "execution_count": 10,
      "outputs": [
        {
          "output_type": "execute_result",
          "data": {
            "text/plain": [
              "<re.Match object; span=(0, 4), match='1234'>"
            ]
          },
          "metadata": {},
          "execution_count": 10
        }
      ]
    },
    {
      "cell_type": "code",
      "source": [
        "re.match('[0-9]+','1234') # 1234 에 0-9 숫자가 1개 이상 있는지"
      ],
      "metadata": {
        "colab": {
          "base_uri": "https://localhost:8080/"
        },
        "id": "URe5V8djuYIL",
        "outputId": "c122f907-b673-4b67-8850-81d8321e95e3"
      },
      "execution_count": 11,
      "outputs": [
        {
          "output_type": "execute_result",
          "data": {
            "text/plain": [
              "<re.Match object; span=(0, 4), match='1234'>"
            ]
          },
          "metadata": {},
          "execution_count": 11
        }
      ]
    },
    {
      "cell_type": "code",
      "source": [
        "re.match('[0-9]+','abcd') # 반환되지 않음"
      ],
      "metadata": {
        "id": "4WMcf0PmufUq"
      },
      "execution_count": 12,
      "outputs": []
    },
    {
      "cell_type": "code",
      "source": [
        "re.match('a*b', 'b')  # a 가 0개 이상 포함"
      ],
      "metadata": {
        "colab": {
          "base_uri": "https://localhost:8080/"
        },
        "id": "vk5FA0W8ujjr",
        "outputId": "03477489-4d1a-4000-ead4-5001ec0a79ea"
      },
      "execution_count": 13,
      "outputs": [
        {
          "output_type": "execute_result",
          "data": {
            "text/plain": [
              "<re.Match object; span=(0, 1), match='b'>"
            ]
          },
          "metadata": {},
          "execution_count": 13
        }
      ]
    },
    {
      "cell_type": "code",
      "source": [
        "re.match('a+b', 'b')"
      ],
      "metadata": {
        "id": "gXL-kSpFu-D0"
      },
      "execution_count": 15,
      "outputs": []
    },
    {
      "cell_type": "code",
      "source": [
        "re.match('a*b', 'aab')"
      ],
      "metadata": {
        "colab": {
          "base_uri": "https://localhost:8080/"
        },
        "id": "yqTmUNskvFUY",
        "outputId": "2de4b1be-eb30-4e4a-8b9e-944a576925c9"
      },
      "execution_count": 16,
      "outputs": [
        {
          "output_type": "execute_result",
          "data": {
            "text/plain": [
              "<re.Match object; span=(0, 3), match='aab'>"
            ]
          },
          "metadata": {},
          "execution_count": 16
        }
      ]
    },
    {
      "cell_type": "code",
      "source": [
        "re.match('a+b', 'aab')"
      ],
      "metadata": {
        "colab": {
          "base_uri": "https://localhost:8080/"
        },
        "id": "Lvv59IzdvHJQ",
        "outputId": "d211addd-7227-4593-daf5-25178532b52c"
      },
      "execution_count": 17,
      "outputs": [
        {
          "output_type": "execute_result",
          "data": {
            "text/plain": [
              "<re.Match object; span=(0, 3), match='aab'>"
            ]
          },
          "metadata": {},
          "execution_count": 17
        }
      ]
    },
    {
      "cell_type": "code",
      "source": [
        "# 문자가 한 개만 있는지 판단하기\n",
        "re.match('abc?d','abd') # ? 는 0개 또는 1개인지 판단 # c? 이므로 c 가 0개 또는 1개여도 성립"
      ],
      "metadata": {
        "colab": {
          "base_uri": "https://localhost:8080/"
        },
        "id": "ND3HRo2FvJJy",
        "outputId": "4d92bb7e-18f3-4a39-8a9c-18e636a070e1"
      },
      "execution_count": 19,
      "outputs": [
        {
          "output_type": "execute_result",
          "data": {
            "text/plain": [
              "<re.Match object; span=(0, 3), match='abd'>"
            ]
          },
          "metadata": {},
          "execution_count": 19
        }
      ]
    },
    {
      "cell_type": "code",
      "source": [
        "re.match('ab[0-9]?c', 'ab3c')"
      ],
      "metadata": {
        "colab": {
          "base_uri": "https://localhost:8080/"
        },
        "id": "xC4Lzu-oxuW3",
        "outputId": "a7e5c4f0-76aa-4949-c8f8-c5f4ed88b57a"
      },
      "execution_count": 20,
      "outputs": [
        {
          "output_type": "execute_result",
          "data": {
            "text/plain": [
              "<re.Match object; span=(0, 4), match='ab3c'>"
            ]
          },
          "metadata": {},
          "execution_count": 20
        }
      ]
    },
    {
      "cell_type": "code",
      "source": [
        "re.match('ab.d', 'abxd')  # . 은 같은 자리에 무조건 문자(숫자) 1개가 있어야함"
      ],
      "metadata": {
        "colab": {
          "base_uri": "https://localhost:8080/"
        },
        "id": "IPBM9-nAyHsk",
        "outputId": "8cd47658-b157-4a80-db5f-6bda2fc74fd8"
      },
      "execution_count": 23,
      "outputs": [
        {
          "output_type": "execute_result",
          "data": {
            "text/plain": [
              "<re.Match object; span=(0, 4), match='abxd'>"
            ]
          },
          "metadata": {},
          "execution_count": 23
        }
      ]
    },
    {
      "cell_type": "code",
      "source": [
        "# 문자 개수 판단하기\n",
        "re.match('h{3}','hhhello') # h가 3개인지 판단"
      ],
      "metadata": {
        "colab": {
          "base_uri": "https://localhost:8080/"
        },
        "id": "UfjD7uGYyTtZ",
        "outputId": "20031308-e6ff-4edf-a760-4510c40a7898"
      },
      "execution_count": 24,
      "outputs": [
        {
          "output_type": "execute_result",
          "data": {
            "text/plain": [
              "<re.Match object; span=(0, 3), match='hhh'>"
            ]
          },
          "metadata": {},
          "execution_count": 24
        }
      ]
    },
    {
      "cell_type": "code",
      "source": [
        "re.match('(hello){3}','hellohellohelloworld')"
      ],
      "metadata": {
        "colab": {
          "base_uri": "https://localhost:8080/"
        },
        "id": "qD53lHcQzd4i",
        "outputId": "25c16d21-d2cc-493f-d2d1-d5791be675fe"
      },
      "execution_count": 25,
      "outputs": [
        {
          "output_type": "execute_result",
          "data": {
            "text/plain": [
              "<re.Match object; span=(0, 15), match='hellohellohello'>"
            ]
          },
          "metadata": {},
          "execution_count": 25
        }
      ]
    },
    {
      "cell_type": "code",
      "source": [
        "re.match('[0-9]{3}-[0-9]{4}-[0-9]{4}','010-1000-1000')"
      ],
      "metadata": {
        "colab": {
          "base_uri": "https://localhost:8080/"
        },
        "id": "MhtUyJ7ezn02",
        "outputId": "ff00997a-fea8-4ba4-8459-b7b9b0996d82"
      },
      "execution_count": 26,
      "outputs": [
        {
          "output_type": "execute_result",
          "data": {
            "text/plain": [
              "<re.Match object; span=(0, 13), match='010-1000-1000'>"
            ]
          },
          "metadata": {},
          "execution_count": 26
        }
      ]
    },
    {
      "cell_type": "code",
      "source": [
        "# 숫자와 영문 문자를 조합해서 판단하기\n",
        "re.match('[a-zA-Z0-9]+', 'Hello1234')"
      ],
      "metadata": {
        "colab": {
          "base_uri": "https://localhost:8080/"
        },
        "id": "kOeyiAVLz2TK",
        "outputId": "f3dd3f92-bbe2-4d7b-f3cd-4e791e200ed4"
      },
      "execution_count": 33,
      "outputs": [
        {
          "output_type": "execute_result",
          "data": {
            "text/plain": [
              "<re.Match object; span=(0, 9), match='Hello1234'>"
            ]
          },
          "metadata": {},
          "execution_count": 33
        }
      ]
    },
    {
      "cell_type": "code",
      "source": [
        "re.match('[A-Z0-9]+', 'hello')"
      ],
      "metadata": {
        "id": "1ZIoBdPN0H-m"
      },
      "execution_count": 31,
      "outputs": []
    },
    {
      "cell_type": "code",
      "source": [
        "re.match('[가-힇]+', '홍길동')"
      ],
      "metadata": {
        "colab": {
          "base_uri": "https://localhost:8080/"
        },
        "id": "-L5jFC2J0OL2",
        "outputId": "3c828dcc-f9d7-40df-ccef-9e384b31c854"
      },
      "execution_count": 34,
      "outputs": [
        {
          "output_type": "execute_result",
          "data": {
            "text/plain": [
              "<re.Match object; span=(0, 3), match='홍길동'>"
            ]
          },
          "metadata": {},
          "execution_count": 34
        }
      ]
    },
    {
      "cell_type": "code",
      "source": [
        "# 특정 문자범위에 포함되지 않는지 판단하기\n",
        "re.match('[^A-Z]+','Hello') # 대문자를 제외하면 매칭"
      ],
      "metadata": {
        "colab": {
          "base_uri": "https://localhost:8080/"
        },
        "id": "NKMRGpfG0h7o",
        "outputId": "b2869e87-d094-4c32-98fa-454400f034b2"
      },
      "execution_count": 37,
      "outputs": [
        {
          "output_type": "execute_result",
          "data": {
            "text/plain": [
              "<re.Match object; span=(0, 0), match=''>"
            ]
          },
          "metadata": {},
          "execution_count": 37
        }
      ]
    },
    {
      "cell_type": "code",
      "source": [
        "re.match('[^A-Z]+','hello')"
      ],
      "metadata": {
        "colab": {
          "base_uri": "https://localhost:8080/"
        },
        "id": "66GojI5j4RNq",
        "outputId": "7fff6510-216d-4370-80b5-fd8680c3bae0"
      },
      "execution_count": 38,
      "outputs": [
        {
          "output_type": "execute_result",
          "data": {
            "text/plain": [
              "<re.Match object; span=(0, 5), match='hello'>"
            ]
          },
          "metadata": {},
          "execution_count": 38
        }
      ]
    },
    {
      "cell_type": "code",
      "source": [
        "re.match('^[A-Z]+','Hello')"
      ],
      "metadata": {
        "colab": {
          "base_uri": "https://localhost:8080/"
        },
        "id": "OMCstlhV4gOX",
        "outputId": "f86f61d3-2169-48ad-8f5e-7c491b35202d"
      },
      "execution_count": 39,
      "outputs": [
        {
          "output_type": "execute_result",
          "data": {
            "text/plain": [
              "<re.Match object; span=(0, 1), match='H'>"
            ]
          },
          "metadata": {},
          "execution_count": 39
        }
      ]
    },
    {
      "cell_type": "code",
      "source": [
        "re.search('[0-9]+$','Hello1234') # 숫자로 끝나는지 확인"
      ],
      "metadata": {
        "colab": {
          "base_uri": "https://localhost:8080/"
        },
        "id": "AErv9fGk4uo4",
        "outputId": "31559ddb-e427-4f81-c41a-e74c1eb1b29a"
      },
      "execution_count": 40,
      "outputs": [
        {
          "output_type": "execute_result",
          "data": {
            "text/plain": [
              "<re.Match object; span=(5, 9), match='1234'>"
            ]
          },
          "metadata": {},
          "execution_count": 40
        }
      ]
    },
    {
      "cell_type": "code",
      "source": [
        "# 특수 문자 판단하기(특수 문자 앞에 \\ 붙이기!)\n",
        "re.search('\\*+','1 ** 2')"
      ],
      "metadata": {
        "colab": {
          "base_uri": "https://localhost:8080/"
        },
        "id": "pxw_03jF49Q-",
        "outputId": "46c3d00c-f59a-490b-f3ad-05e65d77a4aa"
      },
      "execution_count": 41,
      "outputs": [
        {
          "output_type": "execute_result",
          "data": {
            "text/plain": [
              "<re.Match object; span=(2, 4), match='**'>"
            ]
          },
          "metadata": {},
          "execution_count": 41
        }
      ]
    },
    {
      "cell_type": "code",
      "source": [
        "re.match('[$()a-zA-Z0-9]+', '$(document)')"
      ],
      "metadata": {
        "colab": {
          "base_uri": "https://localhost:8080/"
        },
        "id": "laRXu6yl5Res",
        "outputId": "b14348bd-7993-42cd-ac81-c6ed1f221326"
      },
      "execution_count": 42,
      "outputs": [
        {
          "output_type": "execute_result",
          "data": {
            "text/plain": [
              "<re.Match object; span=(0, 11), match='$(document)'>"
            ]
          },
          "metadata": {},
          "execution_count": 42
        }
      ]
    },
    {
      "cell_type": "markdown",
      "source": [
        "* \\d: [0-9]와 같음. 모든 숫자\n",
        "* \\D: [^0-9]와 같음. 숫자를 제외한 모든 문자\n",
        "* \\w: [a-zA-Z0-9_]와 같음. 영문 대소문자, 숫자, 밑줄 문자\n",
        "* \\W: [^a-zA-Z0-9_]와 같음. 영문 대소문자, 숫자, 밑줄 문자를 제외한 모든 문자\n"
      ],
      "metadata": {
        "id": "fsPIjUq56ImR"
      }
    },
    {
      "cell_type": "code",
      "source": [
        "re.match('\\d+', '1234')"
      ],
      "metadata": {
        "colab": {
          "base_uri": "https://localhost:8080/"
        },
        "id": "SZ_Y7RsH5Xi_",
        "outputId": "15635794-644d-4931-a72a-d99408bcb846"
      },
      "execution_count": 43,
      "outputs": [
        {
          "output_type": "execute_result",
          "data": {
            "text/plain": [
              "<re.Match object; span=(0, 4), match='1234'>"
            ]
          },
          "metadata": {},
          "execution_count": 43
        }
      ]
    },
    {
      "cell_type": "code",
      "source": [
        "re.match('\\D+', 'Hello')"
      ],
      "metadata": {
        "colab": {
          "base_uri": "https://localhost:8080/"
        },
        "id": "Ilpnlabr6QqU",
        "outputId": "d35375c4-5617-45a8-ed11-e5f0ac72ac06"
      },
      "execution_count": 44,
      "outputs": [
        {
          "output_type": "execute_result",
          "data": {
            "text/plain": [
              "<re.Match object; span=(0, 5), match='Hello'>"
            ]
          },
          "metadata": {},
          "execution_count": 44
        }
      ]
    },
    {
      "cell_type": "code",
      "source": [
        "re.match('\\w+', 'Hello_1234')"
      ],
      "metadata": {
        "colab": {
          "base_uri": "https://localhost:8080/"
        },
        "id": "1cBSfUzW6QgR",
        "outputId": "2f5b5a81-57b0-4e68-8830-f677deecefdb"
      },
      "execution_count": 45,
      "outputs": [
        {
          "output_type": "execute_result",
          "data": {
            "text/plain": [
              "<re.Match object; span=(0, 10), match='Hello_1234'>"
            ]
          },
          "metadata": {},
          "execution_count": 45
        }
      ]
    },
    {
      "cell_type": "code",
      "source": [
        "re.match('\\W+', '(:)')"
      ],
      "metadata": {
        "colab": {
          "base_uri": "https://localhost:8080/"
        },
        "id": "GHyvNHQS6QNx",
        "outputId": "27ee7966-cf68-4fca-e379-7b37484f9e69"
      },
      "execution_count": 46,
      "outputs": [
        {
          "output_type": "execute_result",
          "data": {
            "text/plain": [
              "<re.Match object; span=(0, 3), match='(:)'>"
            ]
          },
          "metadata": {},
          "execution_count": 46
        }
      ]
    },
    {
      "cell_type": "markdown",
      "source": [
        "* ∖s : 공백이 있는지\n",
        "* \\S : 공백이 아닌 문자가 하나라도 있는지"
      ],
      "metadata": {
        "id": "_JwLkjwi7o-6"
      }
    },
    {
      "cell_type": "code",
      "source": [
        "# 공백 처리하기\n",
        "re.match('[a-zA-Z0-9 ]+', 'Hello 1234')"
      ],
      "metadata": {
        "colab": {
          "base_uri": "https://localhost:8080/"
        },
        "id": "Ctp1uacC6Y6F",
        "outputId": "60695951-7e06-4ec4-9382-211506fc2780"
      },
      "execution_count": 48,
      "outputs": [
        {
          "output_type": "execute_result",
          "data": {
            "text/plain": [
              "<re.Match object; span=(0, 10), match='Hello 1234'>"
            ]
          },
          "metadata": {},
          "execution_count": 48
        }
      ]
    },
    {
      "cell_type": "code",
      "source": [
        "re.match('[a-zA-Z0-9\\s]+', 'Hello 1234')"
      ],
      "metadata": {
        "colab": {
          "base_uri": "https://localhost:8080/"
        },
        "id": "qpqdsPG670e9",
        "outputId": "bdc244da-1966-4916-dbcc-436049b3033b"
      },
      "execution_count": 49,
      "outputs": [
        {
          "output_type": "execute_result",
          "data": {
            "text/plain": [
              "<re.Match object; span=(0, 10), match='Hello 1234'>"
            ]
          },
          "metadata": {},
          "execution_count": 49
        }
      ]
    },
    {
      "cell_type": "markdown",
      "source": [
        "##### 3. 그룹 사용하기"
      ],
      "metadata": {
        "id": "Ip1mIGtQ79VB"
      }
    },
    {
      "cell_type": "code",
      "source": [
        "m = re.match('([0-9]+) ([0-9]+)', '10 295')"
      ],
      "metadata": {
        "id": "fK2Go6Gj73hM"
      },
      "execution_count": 50,
      "outputs": []
    },
    {
      "cell_type": "code",
      "source": [
        "m.group(1) # 1번째 그룹"
      ],
      "metadata": {
        "colab": {
          "base_uri": "https://localhost:8080/",
          "height": 36
        },
        "id": "GpChNN8GAh-t",
        "outputId": "8c876678-e5fc-4d20-c916-e042a0ee99ac"
      },
      "execution_count": 51,
      "outputs": [
        {
          "output_type": "execute_result",
          "data": {
            "text/plain": [
              "'10'"
            ],
            "application/vnd.google.colaboratory.intrinsic+json": {
              "type": "string"
            }
          },
          "metadata": {},
          "execution_count": 51
        }
      ]
    },
    {
      "cell_type": "code",
      "source": [
        "m.group(2) # 2번쨰 그룹"
      ],
      "metadata": {
        "colab": {
          "base_uri": "https://localhost:8080/",
          "height": 36
        },
        "id": "3cUO1LXEAkB6",
        "outputId": "1df9535d-10ef-465c-ee47-eeb7358813a1"
      },
      "execution_count": 52,
      "outputs": [
        {
          "output_type": "execute_result",
          "data": {
            "text/plain": [
              "'295'"
            ],
            "application/vnd.google.colaboratory.intrinsic+json": {
              "type": "string"
            }
          },
          "metadata": {},
          "execution_count": 52
        }
      ]
    },
    {
      "cell_type": "code",
      "source": [
        "m.group() # 전체 그룹"
      ],
      "metadata": {
        "colab": {
          "base_uri": "https://localhost:8080/",
          "height": 36
        },
        "id": "MVW7yUPqAlcJ",
        "outputId": "5946470a-3f22-43bf-9d78-3407f6094ebf"
      },
      "execution_count": 53,
      "outputs": [
        {
          "output_type": "execute_result",
          "data": {
            "text/plain": [
              "'10 295'"
            ],
            "application/vnd.google.colaboratory.intrinsic+json": {
              "type": "string"
            }
          },
          "metadata": {},
          "execution_count": 53
        }
      ]
    },
    {
      "cell_type": "code",
      "source": [
        "m.group(0) # 전체 그룹"
      ],
      "metadata": {
        "colab": {
          "base_uri": "https://localhost:8080/",
          "height": 36
        },
        "id": "Sbc4NV3NAm64",
        "outputId": "f845c60e-d2d3-441d-8f65-4455b9100531"
      },
      "execution_count": 54,
      "outputs": [
        {
          "output_type": "execute_result",
          "data": {
            "text/plain": [
              "'10 295'"
            ],
            "application/vnd.google.colaboratory.intrinsic+json": {
              "type": "string"
            }
          },
          "metadata": {},
          "execution_count": 54
        }
      ]
    },
    {
      "cell_type": "code",
      "source": [
        "m.groups() # 각 그룹에 해당하는 문자열을 튜플 형태로 반황"
      ],
      "metadata": {
        "colab": {
          "base_uri": "https://localhost:8080/"
        },
        "id": "dH18Lz1zAoKy",
        "outputId": "c07e1351-637f-4a25-c2e5-f39a8af89de6"
      },
      "execution_count": 55,
      "outputs": [
        {
          "output_type": "execute_result",
          "data": {
            "text/plain": [
              "('10', '295')"
            ]
          },
          "metadata": {},
          "execution_count": 55
        }
      ]
    },
    {
      "cell_type": "code",
      "source": [
        "m = re.match('(?P<func>[a-zA-Z_][a-zA-Z0-9_]+)\\((?P<arg>\\w+)\\)', 'print(1234)') # ?P<그룹 이름> 으로 그룹 생성"
      ],
      "metadata": {
        "id": "4OFlAzoAA0Nd"
      },
      "execution_count": 61,
      "outputs": []
    },
    {
      "cell_type": "code",
      "source": [
        "m.group('func')"
      ],
      "metadata": {
        "colab": {
          "base_uri": "https://localhost:8080/",
          "height": 36
        },
        "id": "uOC329DuA8wN",
        "outputId": "2b3e1df4-7956-4ff0-f13b-c569a8b4dff3"
      },
      "execution_count": 58,
      "outputs": [
        {
          "output_type": "execute_result",
          "data": {
            "text/plain": [
              "'print'"
            ],
            "application/vnd.google.colaboratory.intrinsic+json": {
              "type": "string"
            }
          },
          "metadata": {},
          "execution_count": 58
        }
      ]
    },
    {
      "cell_type": "code",
      "source": [
        "m.group('arg')"
      ],
      "metadata": {
        "colab": {
          "base_uri": "https://localhost:8080/",
          "height": 36
        },
        "id": "BWf1Ho0LBADt",
        "outputId": "752d6d09-db34-432d-af10-415e61903271"
      },
      "execution_count": 62,
      "outputs": [
        {
          "output_type": "execute_result",
          "data": {
            "text/plain": [
              "'1234'"
            ],
            "application/vnd.google.colaboratory.intrinsic+json": {
              "type": "string"
            }
          },
          "metadata": {},
          "execution_count": 62
        }
      ]
    },
    {
      "cell_type": "code",
      "source": [
        "re.findall('[0-9]+', '1 2 Fizz 4 Buzz Fizz 7 8')"
      ],
      "metadata": {
        "colab": {
          "base_uri": "https://localhost:8080/"
        },
        "id": "QAaouHdABHl0",
        "outputId": "0f78c954-853c-4e04-bf90-9e64c2a57b1d"
      },
      "execution_count": 63,
      "outputs": [
        {
          "output_type": "execute_result",
          "data": {
            "text/plain": [
              "['1', '2', '4', '7', '8']"
            ]
          },
          "metadata": {},
          "execution_count": 63
        }
      ]
    },
    {
      "cell_type": "markdown",
      "source": [
        "##### 4. 문자열 바꾸기"
      ],
      "metadata": {
        "id": "Gko0F8WoBdEH"
      }
    },
    {
      "cell_type": "code",
      "source": [
        "re.sub('apple|orange', 'fruit', 'apple box orange tree') # apple 이나 orange 를 찾아서 fruit 로 바꿈"
      ],
      "metadata": {
        "colab": {
          "base_uri": "https://localhost:8080/",
          "height": 36
        },
        "id": "1qB69Q37BXGy",
        "outputId": "cd9dfc9f-10e6-491b-9057-b19920e1548b"
      },
      "execution_count": 64,
      "outputs": [
        {
          "output_type": "execute_result",
          "data": {
            "text/plain": [
              "'fruit box fruit tree'"
            ],
            "application/vnd.google.colaboratory.intrinsic+json": {
              "type": "string"
            }
          },
          "metadata": {},
          "execution_count": 64
        }
      ]
    },
    {
      "cell_type": "code",
      "source": [
        "re.sub('[0-9]+', 'n', '1 2 Fizz 5 Buzz Fizz 7 8') # 숫자 찾아서 'n'으로 바꿈"
      ],
      "metadata": {
        "colab": {
          "base_uri": "https://localhost:8080/",
          "height": 36
        },
        "id": "p6YJVdxPFe1d",
        "outputId": "7c5eb325-7c05-4f13-fedf-a70f2196278a"
      },
      "execution_count": 66,
      "outputs": [
        {
          "output_type": "execute_result",
          "data": {
            "text/plain": [
              "'n n Fizz n Buzz Fizz n n'"
            ],
            "application/vnd.google.colaboratory.intrinsic+json": {
              "type": "string"
            }
          },
          "metadata": {},
          "execution_count": 66
        }
      ]
    },
    {
      "cell_type": "code",
      "source": [
        "def multiple10(m):\n",
        "     n = int(m.group())\n",
        "     return str(n * 10)\n",
        "re.sub('[0-9]+', multiple10, '1 2 Fizz 4 Buzz Fizz 7 8') # 숫자를 10 곱해서 바꿈"
      ],
      "metadata": {
        "colab": {
          "base_uri": "https://localhost:8080/",
          "height": 36
        },
        "id": "8n1L2wx6FkCI",
        "outputId": "06927e10-74eb-4d2f-e801-a5a9c577f8bc"
      },
      "execution_count": 67,
      "outputs": [
        {
          "output_type": "execute_result",
          "data": {
            "text/plain": [
              "'10 20 Fizz 40 Buzz Fizz 70 80'"
            ],
            "application/vnd.google.colaboratory.intrinsic+json": {
              "type": "string"
            }
          },
          "metadata": {},
          "execution_count": 67
        }
      ]
    },
    {
      "cell_type": "code",
      "source": [
        "re.sub('[0-9]+', lambda m: str(int(m.group()) * 10), '1 2 Fizz 4 Buzz Fizz 7 8') # 람다함수 이용해서 간단하게 표현"
      ],
      "metadata": {
        "colab": {
          "base_uri": "https://localhost:8080/",
          "height": 36
        },
        "id": "7DwynTmpFx7P",
        "outputId": "11533ef5-0989-4f9a-ff53-e217a9da1c4e"
      },
      "execution_count": 68,
      "outputs": [
        {
          "output_type": "execute_result",
          "data": {
            "text/plain": [
              "'10 20 Fizz 40 Buzz Fizz 70 80'"
            ],
            "application/vnd.google.colaboratory.intrinsic+json": {
              "type": "string"
            }
          },
          "metadata": {},
          "execution_count": 68
        }
      ]
    },
    {
      "cell_type": "code",
      "source": [
        "# 찾은 문자열을 결과에 다시 사용하기\n",
        "re.sub('([a-z]+) ([0-9]+)', '\\\\2 \\\\1 \\\\2 \\\\1', 'hello 1234') # \\\\숫자 형식으로"
      ],
      "metadata": {
        "colab": {
          "base_uri": "https://localhost:8080/",
          "height": 36
        },
        "id": "tET1EGmdF0I_",
        "outputId": "3ab5f101-fd2b-4586-befb-3eeded748ec7"
      },
      "execution_count": 69,
      "outputs": [
        {
          "output_type": "execute_result",
          "data": {
            "text/plain": [
              "'1234 hello 1234 hello'"
            ],
            "application/vnd.google.colaboratory.intrinsic+json": {
              "type": "string"
            }
          },
          "metadata": {},
          "execution_count": 69
        }
      ]
    },
    {
      "cell_type": "code",
      "source": [
        "re.sub('({\\s*)\"(\\w+)\":\\s*\"(\\w+)\"(\\s*})', '<\\\\2>\\\\3</\\\\2>', '{ \"name\": \"james\" }')"
      ],
      "metadata": {
        "colab": {
          "base_uri": "https://localhost:8080/",
          "height": 36
        },
        "id": "tWY_D5RHGAAx",
        "outputId": "85224865-a7cd-487b-c77d-a428bc4103bc"
      },
      "execution_count": 70,
      "outputs": [
        {
          "output_type": "execute_result",
          "data": {
            "text/plain": [
              "'<name>james</name>'"
            ],
            "application/vnd.google.colaboratory.intrinsic+json": {
              "type": "string"
            }
          },
          "metadata": {},
          "execution_count": 70
        }
      ]
    },
    {
      "cell_type": "code",
      "source": [
        "re.sub('({\\s*)\"(?P<key>\\w+)\":\\s*\"(?P<value>\\w+)\"(\\s*})', '<\\\\g<key>>\\\\g<value></\\\\g<key>>', '{ \"name\": \"james\" }') # \\\\g<이름> 형식으로"
      ],
      "metadata": {
        "colab": {
          "base_uri": "https://localhost:8080/",
          "height": 36
        },
        "id": "r0nZeBkFGBrU",
        "outputId": "304d348d-168c-4880-88e2-c323d1d2ca64"
      },
      "execution_count": 72,
      "outputs": [
        {
          "output_type": "execute_result",
          "data": {
            "text/plain": [
              "'<name>james</name>'"
            ],
            "application/vnd.google.colaboratory.intrinsic+json": {
              "type": "string"
            }
          },
          "metadata": {},
          "execution_count": 72
        }
      ]
    },
    {
      "cell_type": "markdown",
      "source": [
        "### 연습문제 - 소스코드를 완성하여 주어진 이메일 주소가 올바른지 판단하도록 만들기"
      ],
      "metadata": {
        "id": "pGFoguHzGU1G"
      }
    },
    {
      "cell_type": "code",
      "source": [
        "import re\n",
        "\n",
        "p = re.compile('^[a-zA-Z0-9+-_.]+@[a-zA-Z0-9-]+\\.[a-zA-Z0-9-.]+$')         # 이곳 채우기!!!\n",
        "emails = ['python@mail.example.com', 'python+kr@example.com',              # 올바른 형식\n",
        "          'python-dojang@example.co.kr', 'python_10@example.info',         # 올바른 형식\n",
        "          'python.dojang@e-xample.com',                                    # 올바른 형식\n",
        "          '@example.com', 'python@example', 'python@example-com']          # 잘못된 형식\n",
        "\n",
        "for email in emails:\n",
        "    print(p.match(email) != None, end=' ')"
      ],
      "metadata": {
        "colab": {
          "base_uri": "https://localhost:8080/"
        },
        "id": "d85vlP56GDZk",
        "outputId": "2c042860-1585-4678-92ee-46c0a843b764"
      },
      "execution_count": 76,
      "outputs": [
        {
          "output_type": "stream",
          "name": "stdout",
          "text": [
            "True True True True True False False False "
          ]
        }
      ]
    }
  ]
}