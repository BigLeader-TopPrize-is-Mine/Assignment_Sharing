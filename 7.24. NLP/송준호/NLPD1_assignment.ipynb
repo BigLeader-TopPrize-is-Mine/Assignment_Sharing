{
 "cells": [
  {
   "cell_type": "code",
   "execution_count": 21,
   "metadata": {},
   "outputs": [
    {
     "name": "stdout",
     "output_type": "stream",
     "text": [
      "True True True True True False False False "
     ]
    }
   ],
   "source": [
    "import re\n",
    "\n",
    "emails = ['python@mail.example.com', 'python+kr@example.com',              # 올바른 형식\n",
    "          'python-dojang@example.co.kr', 'python_10@example.info',         # 올바른 형식\n",
    "          'python.dojang@e-xample.com',                                    # 올바른 형식\n",
    "          '@example.com', 'python@example', 'python@example-com']          # 잘못된 형식\n",
    "\n",
    "\n",
    "regexp = re.compile('^[\\w0-9+_\\_\\-.]+@+[\\w0-9+\\-]+\\.+[\\w0-9\\.\\-]+$')\n",
    "\n",
    "for mail in emails :\n",
    "    print(regexp.match(mail) != None, end= ' ')"
   ]
  },
  {
   "cell_type": "code",
   "execution_count": 23,
   "metadata": {},
   "outputs": [
    {
     "name": "stdout",
     "output_type": "stream",
     "text": [
      "True False False "
     ]
    }
   ],
   "source": [
    "\"\"\" 표준 입력으로 URL 문자열이 입력 입력됩니다. \n",
    "입력된 URL이 올바르면 True, 잘못되었으면 False를 출력하는 프로그램을 만드세요. \n",
    "이 심사문제에서 판단해야 할 URL의 규칙은 다음과 같습니다.\"\"\"\n",
    "\n",
    "#url 해봄 근데 왜 틀림?\n",
    "\n",
    "urls = ['http://www.example.com/hello/world.do?key=python',\n",
    "        'https://example/hello/world.html',\n",
    "        'https://www.dojang.io/mod/quiz/attempt.php?attempt=2090971/|||||ddd/']\n",
    "\n",
    "regexp = re.compile('^https?[://]+www\\.[a-zA-Z\\-]+\\.[a-zA-Z\\-]+?\\/+?[a-zA-Z0-9-_.?=\\/]+$')\n",
    "\n",
    "for url in urls :\n",
    "    print(regexp.match(url) != None, end= \" \")\n"
   ]
  },
  {
   "cell_type": "code",
   "execution_count": null,
   "metadata": {},
   "outputs": [],
   "source": []
  }
 ],
 "metadata": {
  "kernelspec": {
   "display_name": "py_3_10_4",
   "language": "python",
   "name": "python3"
  },
  "language_info": {
   "codemirror_mode": {
    "name": "ipython",
    "version": 3
   },
   "file_extension": ".py",
   "mimetype": "text/x-python",
   "name": "python",
   "nbconvert_exporter": "python",
   "pygments_lexer": "ipython3",
   "version": "3.10.4"
  },
  "orig_nbformat": 4
 },
 "nbformat": 4,
 "nbformat_minor": 2
}
