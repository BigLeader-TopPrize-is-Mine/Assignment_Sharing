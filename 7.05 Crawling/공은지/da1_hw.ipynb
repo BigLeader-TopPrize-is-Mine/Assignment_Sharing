{
 "cells": [
  {
   "cell_type": "code",
   "execution_count": 10,
   "metadata": {},
   "outputs": [],
   "source": [
    "from selenium import webdriver\n",
    "from selenium.webdriver.common.by import By\n",
    "import chromedriver_autoinstaller as ca\n",
    "import time, os, sys\n",
    "\n",
    "driver = webdriver.Chrome()\n",
    "\n",
    "## 웹사이트 오픈하고 닫기\n",
    "driver.get('https://korean.visitkorea.or.kr/main/main.do') \n",
    "time.sleep(2)\n",
    "driver.maximize_window() # 반응형 웹사이트는 창 크기에 따라 요소가 달라질 수 있으므로 작성\n",
    "\n",
    "## 검색창에 검색어 넣기\n",
    "driver.find_element(By.XPATH, '//*[@id=\"placeHolder\"]/a').click()\n",
    "time.sleep(2)\n",
    "driver.find_element(By.XPATH, '//*[@id=\"inp_search\"]').send_keys('여름여행' + '\\n')\n",
    "time.sleep(2)\n",
    "driver.find_element(By.XPATH, '//*[@id=\"sorting_options\"]/button[4]/span').click()\n",
    "time.sleep(2)\n",
    "driver.find_element(By.XPATH, '//*[@id=\"32\"]/button/span').click()\n",
    "time.sleep(2)\n",
    "driver.find_element(By.XPATH, '//*[@id=\"contents\"]/div/div[1]/div[3]/div[3]/div[2]/a[1]').click()\n",
    "\n",
    "time.sleep(5)\n",
    "driver.close()"
   ]
  },
  {
   "cell_type": "code",
   "execution_count": null,
   "metadata": {},
   "outputs": [],
   "source": []
  }
 ],
 "metadata": {
  "kernelspec": {
   "display_name": "Python 3",
   "language": "python",
   "name": "python3"
  },
  "language_info": {
   "codemirror_mode": {
    "name": "ipython",
    "version": 3
   },
   "file_extension": ".py",
   "mimetype": "text/x-python",
   "name": "python",
   "nbconvert_exporter": "python",
   "pygments_lexer": "ipython3",
   "version": "3.11.3"
  },
  "orig_nbformat": 4
 },
 "nbformat": 4,
 "nbformat_minor": 2
}
