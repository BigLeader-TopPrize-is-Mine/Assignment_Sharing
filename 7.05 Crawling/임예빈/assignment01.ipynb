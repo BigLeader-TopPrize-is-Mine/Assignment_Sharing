{
 "cells": [
  {
   "cell_type": "code",
   "execution_count": 9,
   "metadata": {},
   "outputs": [
    {
     "name": "stdout",
     "output_type": "stream",
     "text": [
      "데이터 수집이 정상적으로 완료되었습니다\n"
     ]
    }
   ],
   "source": [
    "import chromedriver_autoinstaller as ca\n",
    "from selenium import webdriver\n",
    "from selenium.webdriver.common.by import By\n",
    "from bs4 import BeautifulSoup\n",
    "import time, os, sys\n",
    "\n",
    "driver = webdriver.Chrome(ca.install()) # chrome driver를 제어\n",
    "\n",
    "def ts(x) : # time sleep 함수\n",
    "    time.sleep(x)\n",
    "\n",
    "\n",
    "# 웹사이트 오픈하고 닫기\n",
    "driver = webdriver.Chrome()\n",
    "driver.get('https://korean.visitkorea.or.kr')\n",
    "driver.maximize_window()\n",
    "\n",
    "# 검색창 클릭\n",
    "driver.find_element(By.XPATH, '//*[@id=\"placeHolder\"]/a').click()\n",
    "ts(2)\n",
    "\n",
    "# 검색창에 검색어 넣고 조회\n",
    "driver.find_element(By.ID, 'inp_search').send_keys('여름여행'+'\\n')\n",
    "ts(2)\n",
    "\n",
    "# 옵션 -> 강원 -> 확인 클릭\n",
    "driver.find_element(By.XPATH, '//*[@id=\"sorting_options\"]/button[4]/span').click()\n",
    "driver.find_element(By.XPATH, '//*[@id=\"32\"]/button/span').click()\n",
    "driver.find_element(By.XPATH, '//*[@id=\"contents\"]/div/div[1]/div[3]/div[3]/div[2]/a[1]').click()\n",
    "ts(2)\n",
    "\n",
    "# 웹데이터 가져오기\n",
    "soup = BeautifulSoup(driver.page_source, 'html.parser')\n",
    "\n",
    "# 웹데이터 파싱하기\n",
    "title = soup.find('div', id='listBody').find_all('div', 'tit')\n",
    "\n",
    "# 파일로 저장하기\n",
    "f_name = 'C:/Users/yebin/Documents/BigLeader/crawler/assignment/title.txt'\n",
    "\n",
    "orig = sys.stdout\n",
    "\n",
    "with open(f_name, 'a', encoding='UTF-8') as file:\n",
    "  sys.stdout = file\n",
    "\n",
    "  for i in title:\n",
    "    print(i.get_text().strip())\n",
    "\n",
    "sys.stdout = orig\n",
    "\n",
    "print('데이터 수집이 정상적으로 완료되었습니다')\n",
    "\n",
    "ts(2); driver.close()\n"
   ]
  }
 ],
 "metadata": {
  "kernelspec": {
   "display_name": "base",
   "language": "python",
   "name": "python3"
  },
  "language_info": {
   "codemirror_mode": {
    "name": "ipython",
    "version": 3
   },
   "file_extension": ".py",
   "mimetype": "text/x-python",
   "name": "python",
   "nbconvert_exporter": "python",
   "pygments_lexer": "ipython3",
   "version": "3.9.7"
  },
  "orig_nbformat": 4,
  "vscode": {
   "interpreter": {
    "hash": "105790836edd6ce9dba8ddac723b0664ab4da7017b48f129addc738385b159de"
   }
  }
 },
 "nbformat": 4,
 "nbformat_minor": 2
}
