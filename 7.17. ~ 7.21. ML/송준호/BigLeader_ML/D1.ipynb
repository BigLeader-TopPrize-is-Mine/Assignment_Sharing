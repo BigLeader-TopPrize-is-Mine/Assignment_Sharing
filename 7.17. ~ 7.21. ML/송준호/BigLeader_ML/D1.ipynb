{
 "cells": [
  {
   "cell_type": "code",
   "execution_count": 12,
   "metadata": {},
   "outputs": [
    {
     "data": {
      "text/plain": [
       "array(['CRIM', 'ZN', 'INDUS', 'CHAS', 'NOX', 'RM', 'AGE', 'DIS', 'RAD',\n",
       "       'TAX', 'PTRATIO', 'B', 'LSTAT', 'MEDV'], dtype=object)"
      ]
     },
     "execution_count": 12,
     "metadata": {},
     "output_type": "execute_result"
    }
   ],
   "source": [
    "## 가상환경 py_3_10_4\n",
    "# conda activate py_3_10_4\n",
    "\n",
    "import numpy as np\n",
    "import pandas as pd\n",
    "\n",
    "df = pd.read_csv(\"./data/house_prices.csv\")\n",
    "df.index\n",
    "df.columns.values\n",
    "# df.iloc[2,4]\n",
    "# df.iloc[3,5]"
   ]
  },
  {
   "cell_type": "code",
   "execution_count": 17,
   "metadata": {},
   "outputs": [
    {
     "data": {
      "text/plain": [
       "0      0.561015\n",
       "1      0.582005\n",
       "2      0.581985\n",
       "3      0.587065\n",
       "4      0.623745\n",
       "         ...   \n",
       "501    0.617325\n",
       "502    0.599965\n",
       "503    0.615455\n",
       "504    0.664285\n",
       "505    0.602105\n",
       "Name: CRIM, Length: 506, dtype: float64"
      ]
     },
     "execution_count": 17,
     "metadata": {},
     "output_type": "execute_result"
    }
   ],
   "source": [
    "df['CRIM']+df['NOX']"
   ]
  },
  {
   "cell_type": "code",
   "execution_count": 19,
   "metadata": {},
   "outputs": [
    {
     "data": {
      "text/html": [
       "<div>\n",
       "<style scoped>\n",
       "    .dataframe tbody tr th:only-of-type {\n",
       "        vertical-align: middle;\n",
       "    }\n",
       "\n",
       "    .dataframe tbody tr th {\n",
       "        vertical-align: top;\n",
       "    }\n",
       "\n",
       "    .dataframe thead th {\n",
       "        text-align: right;\n",
       "    }\n",
       "</style>\n",
       "<table border=\"1\" class=\"dataframe\">\n",
       "  <thead>\n",
       "    <tr style=\"text-align: right;\">\n",
       "      <th></th>\n",
       "      <th>0</th>\n",
       "      <th>1</th>\n",
       "      <th>2</th>\n",
       "      <th>3</th>\n",
       "      <th>4</th>\n",
       "      <th>5</th>\n",
       "      <th>6</th>\n",
       "      <th>7</th>\n",
       "      <th>8</th>\n",
       "      <th>9</th>\n",
       "      <th>...</th>\n",
       "      <th>496</th>\n",
       "      <th>497</th>\n",
       "      <th>498</th>\n",
       "      <th>499</th>\n",
       "      <th>500</th>\n",
       "      <th>501</th>\n",
       "      <th>502</th>\n",
       "      <th>503</th>\n",
       "      <th>504</th>\n",
       "      <th>505</th>\n",
       "    </tr>\n",
       "  </thead>\n",
       "  <tbody>\n",
       "    <tr>\n",
       "      <th>CRIM</th>\n",
       "      <td>0.00632</td>\n",
       "      <td>0.02731</td>\n",
       "      <td>0.02729</td>\n",
       "      <td>0.03237</td>\n",
       "      <td>0.06905</td>\n",
       "      <td>0.02985</td>\n",
       "      <td>0.08829</td>\n",
       "      <td>0.14455</td>\n",
       "      <td>0.21124</td>\n",
       "      <td>0.17004</td>\n",
       "      <td>...</td>\n",
       "      <td>0.2896</td>\n",
       "      <td>0.26838</td>\n",
       "      <td>0.23912</td>\n",
       "      <td>0.17783</td>\n",
       "      <td>0.22438</td>\n",
       "      <td>0.06263</td>\n",
       "      <td>0.04527</td>\n",
       "      <td>0.06076</td>\n",
       "      <td>0.10959</td>\n",
       "      <td>0.04741</td>\n",
       "    </tr>\n",
       "    <tr>\n",
       "      <th>NOX</th>\n",
       "      <td>0.53800</td>\n",
       "      <td>0.46900</td>\n",
       "      <td>0.46900</td>\n",
       "      <td>0.45800</td>\n",
       "      <td>0.45800</td>\n",
       "      <td>0.45800</td>\n",
       "      <td>0.52400</td>\n",
       "      <td>0.52400</td>\n",
       "      <td>0.52400</td>\n",
       "      <td>0.52400</td>\n",
       "      <td>...</td>\n",
       "      <td>0.5850</td>\n",
       "      <td>0.58500</td>\n",
       "      <td>0.58500</td>\n",
       "      <td>0.58500</td>\n",
       "      <td>0.58500</td>\n",
       "      <td>0.57300</td>\n",
       "      <td>0.57300</td>\n",
       "      <td>0.57300</td>\n",
       "      <td>0.57300</td>\n",
       "      <td>0.57300</td>\n",
       "    </tr>\n",
       "    <tr>\n",
       "      <th>RM</th>\n",
       "      <td>6.57500</td>\n",
       "      <td>6.42100</td>\n",
       "      <td>7.18500</td>\n",
       "      <td>6.99800</td>\n",
       "      <td>7.14700</td>\n",
       "      <td>6.43000</td>\n",
       "      <td>6.01200</td>\n",
       "      <td>6.17200</td>\n",
       "      <td>5.63100</td>\n",
       "      <td>6.00400</td>\n",
       "      <td>...</td>\n",
       "      <td>5.3900</td>\n",
       "      <td>5.79400</td>\n",
       "      <td>6.01900</td>\n",
       "      <td>5.56900</td>\n",
       "      <td>6.02700</td>\n",
       "      <td>6.59300</td>\n",
       "      <td>6.12000</td>\n",
       "      <td>6.97600</td>\n",
       "      <td>6.79400</td>\n",
       "      <td>6.03000</td>\n",
       "    </tr>\n",
       "    <tr>\n",
       "      <th>AGE</th>\n",
       "      <td>65.20000</td>\n",
       "      <td>78.90000</td>\n",
       "      <td>61.10000</td>\n",
       "      <td>45.80000</td>\n",
       "      <td>54.20000</td>\n",
       "      <td>58.70000</td>\n",
       "      <td>66.60000</td>\n",
       "      <td>96.10000</td>\n",
       "      <td>100.00000</td>\n",
       "      <td>85.90000</td>\n",
       "      <td>...</td>\n",
       "      <td>72.9000</td>\n",
       "      <td>70.60000</td>\n",
       "      <td>65.30000</td>\n",
       "      <td>73.50000</td>\n",
       "      <td>79.70000</td>\n",
       "      <td>69.10000</td>\n",
       "      <td>76.70000</td>\n",
       "      <td>91.00000</td>\n",
       "      <td>89.30000</td>\n",
       "      <td>80.80000</td>\n",
       "    </tr>\n",
       "    <tr>\n",
       "      <th>TAX</th>\n",
       "      <td>296.00000</td>\n",
       "      <td>242.00000</td>\n",
       "      <td>242.00000</td>\n",
       "      <td>222.00000</td>\n",
       "      <td>222.00000</td>\n",
       "      <td>222.00000</td>\n",
       "      <td>311.00000</td>\n",
       "      <td>311.00000</td>\n",
       "      <td>311.00000</td>\n",
       "      <td>311.00000</td>\n",
       "      <td>...</td>\n",
       "      <td>391.0000</td>\n",
       "      <td>391.00000</td>\n",
       "      <td>391.00000</td>\n",
       "      <td>391.00000</td>\n",
       "      <td>391.00000</td>\n",
       "      <td>273.00000</td>\n",
       "      <td>273.00000</td>\n",
       "      <td>273.00000</td>\n",
       "      <td>273.00000</td>\n",
       "      <td>273.00000</td>\n",
       "    </tr>\n",
       "  </tbody>\n",
       "</table>\n",
       "<p>5 rows × 506 columns</p>\n",
       "</div>"
      ],
      "text/plain": [
       "            0          1          2          3          4          5    \\\n",
       "CRIM    0.00632    0.02731    0.02729    0.03237    0.06905    0.02985   \n",
       "NOX     0.53800    0.46900    0.46900    0.45800    0.45800    0.45800   \n",
       "RM      6.57500    6.42100    7.18500    6.99800    7.14700    6.43000   \n",
       "AGE    65.20000   78.90000   61.10000   45.80000   54.20000   58.70000   \n",
       "TAX   296.00000  242.00000  242.00000  222.00000  222.00000  222.00000   \n",
       "\n",
       "            6          7          8          9    ...       496        497  \\\n",
       "CRIM    0.08829    0.14455    0.21124    0.17004  ...    0.2896    0.26838   \n",
       "NOX     0.52400    0.52400    0.52400    0.52400  ...    0.5850    0.58500   \n",
       "RM      6.01200    6.17200    5.63100    6.00400  ...    5.3900    5.79400   \n",
       "AGE    66.60000   96.10000  100.00000   85.90000  ...   72.9000   70.60000   \n",
       "TAX   311.00000  311.00000  311.00000  311.00000  ...  391.0000  391.00000   \n",
       "\n",
       "            498        499        500        501        502        503  \\\n",
       "CRIM    0.23912    0.17783    0.22438    0.06263    0.04527    0.06076   \n",
       "NOX     0.58500    0.58500    0.58500    0.57300    0.57300    0.57300   \n",
       "RM      6.01900    5.56900    6.02700    6.59300    6.12000    6.97600   \n",
       "AGE    65.30000   73.50000   79.70000   69.10000   76.70000   91.00000   \n",
       "TAX   391.00000  391.00000  391.00000  273.00000  273.00000  273.00000   \n",
       "\n",
       "            504        505  \n",
       "CRIM    0.10959    0.04741  \n",
       "NOX     0.57300    0.57300  \n",
       "RM      6.79400    6.03000  \n",
       "AGE    89.30000   80.80000  \n",
       "TAX   273.00000  273.00000  \n",
       "\n",
       "[5 rows x 506 columns]"
      ]
     },
     "execution_count": 19,
     "metadata": {},
     "output_type": "execute_result"
    }
   ],
   "source": [
    "X = df[['CRIM','NOX','RM','AGE','TAX']]\n",
    "#### 전치행렬 만들기\n",
    "\n",
    "X_t = np.transpose(X)\n",
    "X_t"
   ]
  },
  {
   "cell_type": "code",
   "execution_count": 20,
   "metadata": {},
   "outputs": [
    {
     "data": {
      "text/html": [
       "<div>\n",
       "<style scoped>\n",
       "    .dataframe tbody tr th:only-of-type {\n",
       "        vertical-align: middle;\n",
       "    }\n",
       "\n",
       "    .dataframe tbody tr th {\n",
       "        vertical-align: top;\n",
       "    }\n",
       "\n",
       "    .dataframe thead th {\n",
       "        text-align: right;\n",
       "    }\n",
       "</style>\n",
       "<table border=\"1\" class=\"dataframe\">\n",
       "  <thead>\n",
       "    <tr style=\"text-align: right;\">\n",
       "      <th></th>\n",
       "      <th>CRIM</th>\n",
       "      <th>NOX</th>\n",
       "      <th>RM</th>\n",
       "      <th>AGE</th>\n",
       "      <th>TAX</th>\n",
       "    </tr>\n",
       "  </thead>\n",
       "  <tbody>\n",
       "    <tr>\n",
       "      <th>CRIM</th>\n",
       "      <td>4.397034e+04</td>\n",
       "      <td>1226.123170</td>\n",
       "      <td>1.082195e+04</td>\n",
       "      <td>1.685150e+05</td>\n",
       "      <td>1.173073e+06</td>\n",
       "    </tr>\n",
       "    <tr>\n",
       "      <th>NOX</th>\n",
       "      <td>1.226123e+03</td>\n",
       "      <td>162.470380</td>\n",
       "      <td>1.751519e+03</td>\n",
       "      <td>2.045220e+04</td>\n",
       "      <td>1.211706e+05</td>\n",
       "    </tr>\n",
       "    <tr>\n",
       "      <th>RM</th>\n",
       "      <td>1.082195e+04</td>\n",
       "      <td>1751.519414</td>\n",
       "      <td>2.023460e+04</td>\n",
       "      <td>2.156702e+05</td>\n",
       "      <td>1.280740e+06</td>\n",
       "    </tr>\n",
       "    <tr>\n",
       "      <th>AGE</th>\n",
       "      <td>1.685150e+05</td>\n",
       "      <td>20452.201630</td>\n",
       "      <td>2.156702e+05</td>\n",
       "      <td>2.779615e+06</td>\n",
       "      <td>1.537874e+07</td>\n",
       "    </tr>\n",
       "    <tr>\n",
       "      <th>TAX</th>\n",
       "      <td>1.173073e+06</td>\n",
       "      <td>121170.623200</td>\n",
       "      <td>1.280740e+06</td>\n",
       "      <td>1.537874e+07</td>\n",
       "      <td>9.867314e+07</td>\n",
       "    </tr>\n",
       "  </tbody>\n",
       "</table>\n",
       "</div>"
      ],
      "text/plain": [
       "              CRIM            NOX            RM           AGE           TAX\n",
       "CRIM  4.397034e+04    1226.123170  1.082195e+04  1.685150e+05  1.173073e+06\n",
       "NOX   1.226123e+03     162.470380  1.751519e+03  2.045220e+04  1.211706e+05\n",
       "RM    1.082195e+04    1751.519414  2.023460e+04  2.156702e+05  1.280740e+06\n",
       "AGE   1.685150e+05   20452.201630  2.156702e+05  2.779615e+06  1.537874e+07\n",
       "TAX   1.173073e+06  121170.623200  1.280740e+06  1.537874e+07  9.867314e+07"
      ]
     },
     "execution_count": 20,
     "metadata": {},
     "output_type": "execute_result"
    }
   ],
   "source": [
    "X_t@X"
   ]
  },
  {
   "cell_type": "code",
   "execution_count": 23,
   "metadata": {},
   "outputs": [
    {
     "data": {
      "text/plain": [
       "7.91431657769047e+21"
      ]
     },
     "execution_count": 23,
     "metadata": {},
     "output_type": "execute_result"
    }
   ],
   "source": [
    "## 행렬식 구하기\n",
    "XtX = X_t@X\n",
    "XtX #대칭행렬\n",
    "\n",
    "np.linalg.det(XtX) ## 행렬식 구하기. linearalgebra determinant\n",
    "\n",
    "## 행렬식이 0이면 역행렬을 구할 수 없다."
   ]
  },
  {
   "cell_type": "code",
   "execution_count": 25,
   "metadata": {},
   "outputs": [
    {
     "data": {
      "text/plain": [
       "array([[ 4.07613803e-05,  1.32526683e-04,  4.76832932e-05,\n",
       "        -1.01889386e-06, -1.10744437e-06],\n",
       "       [ 1.32526683e-04,  3.44301609e-01, -1.30762150e-02,\n",
       "        -8.56047279e-04, -1.21234099e-04],\n",
       "       [ 4.76832932e-05, -1.30762150e-02,  9.05341934e-04,\n",
       "         1.73338529e-05,  1.03814433e-06],\n",
       "       [-1.01889386e-06, -8.56047279e-04,  1.73338529e-05,\n",
       "         5.35211609e-06,  4.19638894e-09],\n",
       "       [-1.10744437e-06, -1.21234099e-04,  1.03814433e-06,\n",
       "         4.19638894e-09,  1.58047038e-07]])"
      ]
     },
     "execution_count": 25,
     "metadata": {},
     "output_type": "execute_result"
    }
   ],
   "source": [
    "XtX_inv = np.linalg.inv(XtX)\n",
    "XtX_inv\n"
   ]
  },
  {
   "cell_type": "code",
   "execution_count": 27,
   "metadata": {},
   "outputs": [
    {
     "data": {
      "text/html": [
       "<div>\n",
       "<style scoped>\n",
       "    .dataframe tbody tr th:only-of-type {\n",
       "        vertical-align: middle;\n",
       "    }\n",
       "\n",
       "    .dataframe tbody tr th {\n",
       "        vertical-align: top;\n",
       "    }\n",
       "\n",
       "    .dataframe thead th {\n",
       "        text-align: right;\n",
       "    }\n",
       "</style>\n",
       "<table border=\"1\" class=\"dataframe\">\n",
       "  <thead>\n",
       "    <tr style=\"text-align: right;\">\n",
       "      <th></th>\n",
       "      <th>0</th>\n",
       "      <th>1</th>\n",
       "      <th>2</th>\n",
       "      <th>3</th>\n",
       "      <th>4</th>\n",
       "    </tr>\n",
       "  </thead>\n",
       "  <tbody>\n",
       "    <tr>\n",
       "      <th>CRIM</th>\n",
       "      <td>1.000000e+00</td>\n",
       "      <td>-7.643977e-14</td>\n",
       "      <td>-1.381674e-15</td>\n",
       "      <td>-4.241093e-16</td>\n",
       "      <td>5.193812e-17</td>\n",
       "    </tr>\n",
       "    <tr>\n",
       "      <th>NOX</th>\n",
       "      <td>-8.856692e-18</td>\n",
       "      <td>1.000000e+00</td>\n",
       "      <td>2.420336e-16</td>\n",
       "      <td>1.163556e-17</td>\n",
       "      <td>-2.476682e-18</td>\n",
       "    </tr>\n",
       "    <tr>\n",
       "      <th>RM</th>\n",
       "      <td>1.730192e-16</td>\n",
       "      <td>-4.334970e-15</td>\n",
       "      <td>1.000000e+00</td>\n",
       "      <td>-1.261543e-16</td>\n",
       "      <td>-2.928635e-17</td>\n",
       "    </tr>\n",
       "    <tr>\n",
       "      <th>AGE</th>\n",
       "      <td>6.126108e-16</td>\n",
       "      <td>-6.351444e-13</td>\n",
       "      <td>4.884368e-14</td>\n",
       "      <td>1.000000e+00</td>\n",
       "      <td>-2.194000e-16</td>\n",
       "    </tr>\n",
       "    <tr>\n",
       "      <th>TAX</th>\n",
       "      <td>2.829222e-15</td>\n",
       "      <td>4.488510e-13</td>\n",
       "      <td>1.467297e-14</td>\n",
       "      <td>-6.681938e-15</td>\n",
       "      <td>1.000000e+00</td>\n",
       "    </tr>\n",
       "  </tbody>\n",
       "</table>\n",
       "</div>"
      ],
      "text/plain": [
       "                 0             1             2             3             4\n",
       "CRIM  1.000000e+00 -7.643977e-14 -1.381674e-15 -4.241093e-16  5.193812e-17\n",
       "NOX  -8.856692e-18  1.000000e+00  2.420336e-16  1.163556e-17 -2.476682e-18\n",
       "RM    1.730192e-16 -4.334970e-15  1.000000e+00 -1.261543e-16 -2.928635e-17\n",
       "AGE   6.126108e-16 -6.351444e-13  4.884368e-14  1.000000e+00 -2.194000e-16\n",
       "TAX   2.829222e-15  4.488510e-13  1.467297e-14 -6.681938e-15  1.000000e+00"
      ]
     },
     "execution_count": 27,
     "metadata": {},
     "output_type": "execute_result"
    }
   ],
   "source": [
    "XtX@XtX_inv ##곱했을 때 단위행렬이 나오나.."
   ]
  },
  {
   "cell_type": "code",
   "execution_count": 28,
   "metadata": {},
   "outputs": [
    {
     "name": "stdout",
     "output_type": "stream",
     "text": [
      "1226.123170231\n"
     ]
    }
   ],
   "source": [
    "## 내적 구하기\n",
    "\n",
    "crim = df['CRIM'] #vector\n",
    "nox = df['NOX'] #vector\n",
    "\n",
    "res = np.inner(crim,nox)\n",
    "print(res) ##내적값 스칼라"
   ]
  },
  {
   "cell_type": "code",
   "execution_count": 29,
   "metadata": {},
   "outputs": [
    {
     "data": {
      "text/html": [
       "<div>\n",
       "<style scoped>\n",
       "    .dataframe tbody tr th:only-of-type {\n",
       "        vertical-align: middle;\n",
       "    }\n",
       "\n",
       "    .dataframe tbody tr th {\n",
       "        vertical-align: top;\n",
       "    }\n",
       "\n",
       "    .dataframe thead th {\n",
       "        text-align: right;\n",
       "    }\n",
       "</style>\n",
       "<table border=\"1\" class=\"dataframe\">\n",
       "  <thead>\n",
       "    <tr style=\"text-align: right;\">\n",
       "      <th></th>\n",
       "      <th>CRIM</th>\n",
       "      <th>NOX</th>\n",
       "      <th>RM</th>\n",
       "      <th>AGE</th>\n",
       "      <th>TAX</th>\n",
       "    </tr>\n",
       "  </thead>\n",
       "  <tbody>\n",
       "    <tr>\n",
       "      <th>CRIM</th>\n",
       "      <td>4.397034e+04</td>\n",
       "      <td>1226.123170</td>\n",
       "      <td>1.082195e+04</td>\n",
       "      <td>1.685150e+05</td>\n",
       "      <td>1.173073e+06</td>\n",
       "    </tr>\n",
       "    <tr>\n",
       "      <th>NOX</th>\n",
       "      <td>1.226123e+03</td>\n",
       "      <td>162.470380</td>\n",
       "      <td>1.751519e+03</td>\n",
       "      <td>2.045220e+04</td>\n",
       "      <td>1.211706e+05</td>\n",
       "    </tr>\n",
       "    <tr>\n",
       "      <th>RM</th>\n",
       "      <td>1.082195e+04</td>\n",
       "      <td>1751.519414</td>\n",
       "      <td>2.023460e+04</td>\n",
       "      <td>2.156702e+05</td>\n",
       "      <td>1.280740e+06</td>\n",
       "    </tr>\n",
       "    <tr>\n",
       "      <th>AGE</th>\n",
       "      <td>1.685150e+05</td>\n",
       "      <td>20452.201630</td>\n",
       "      <td>2.156702e+05</td>\n",
       "      <td>2.779615e+06</td>\n",
       "      <td>1.537874e+07</td>\n",
       "    </tr>\n",
       "    <tr>\n",
       "      <th>TAX</th>\n",
       "      <td>1.173073e+06</td>\n",
       "      <td>121170.623200</td>\n",
       "      <td>1.280740e+06</td>\n",
       "      <td>1.537874e+07</td>\n",
       "      <td>9.867314e+07</td>\n",
       "    </tr>\n",
       "  </tbody>\n",
       "</table>\n",
       "</div>"
      ],
      "text/plain": [
       "              CRIM            NOX            RM           AGE           TAX\n",
       "CRIM  4.397034e+04    1226.123170  1.082195e+04  1.685150e+05  1.173073e+06\n",
       "NOX   1.226123e+03     162.470380  1.751519e+03  2.045220e+04  1.211706e+05\n",
       "RM    1.082195e+04    1751.519414  2.023460e+04  2.156702e+05  1.280740e+06\n",
       "AGE   1.685150e+05   20452.201630  2.156702e+05  2.779615e+06  1.537874e+07\n",
       "TAX   1.173073e+06  121170.623200  1.280740e+06  1.537874e+07  9.867314e+07"
      ]
     },
     "execution_count": 29,
     "metadata": {},
     "output_type": "execute_result"
    }
   ],
   "source": [
    "cov_x = X_t.dot(X)\n",
    "cov_x #고윳값, 고유 벡터 구하기"
   ]
  },
  {
   "cell_type": "code",
   "execution_count": 30,
   "metadata": {},
   "outputs": [
    {
     "data": {
      "text/plain": [
       "array([1.01109837e+08, 3.74919516e+05, 2.99553705e+04, 2.40312204e+03,\n",
       "       2.90022330e+00])"
      ]
     },
     "execution_count": 30,
     "metadata": {},
     "output_type": "execute_result"
    }
   ],
   "source": [
    "e,v = np.linalg.eig(cov_x)\n",
    "e #고윳값이 큰 순서대로 나온다."
   ]
  },
  {
   "cell_type": "code",
   "execution_count": 31,
   "metadata": {},
   "outputs": [
    {
     "data": {
      "text/plain": [
       "array([[ 1.17248568e-02, -4.34541539e-02, -9.89273583e-01,\n",
       "         1.38967257e-01, -3.78876853e-04],\n",
       "       [ 1.21545113e-03,  3.97729110e-03,  5.48368537e-03,\n",
       "         3.74537281e-02, -9.99274663e-01],\n",
       "       [ 1.28461807e-02,  4.11504926e-02,  1.37240647e-01,\n",
       "         9.88869506e-01,  3.79962757e-02],\n",
       "       [ 1.54544362e-01,  9.86199762e-01, -4.66395497e-02,\n",
       "        -3.66695593e-02,  2.48287726e-03],\n",
       "       [ 9.87832003e-01, -1.54313263e-01,  1.72471505e-02,\n",
       "        -8.81831838e-03,  3.51466736e-04]])"
      ]
     },
     "execution_count": 31,
     "metadata": {},
     "output_type": "execute_result"
    }
   ],
   "source": [
    "v #고윳값에 맞는 고유 벡터가 나온다."
   ]
  },
  {
   "cell_type": "code",
   "execution_count": 32,
   "metadata": {},
   "outputs": [
    {
     "data": {
      "text/plain": [
       "array([[-1.17248568e-02,  4.34541539e-02,  9.89273583e-01,\n",
       "        -1.38967257e-01, -3.78876853e-04],\n",
       "       [-1.21545113e-03, -3.97729110e-03, -5.48368537e-03,\n",
       "        -3.74537281e-02, -9.99274663e-01],\n",
       "       [-1.28461807e-02, -4.11504926e-02, -1.37240647e-01,\n",
       "        -9.88869506e-01,  3.79962757e-02],\n",
       "       [-1.54544362e-01, -9.86199762e-01,  4.66395497e-02,\n",
       "         3.66695593e-02,  2.48287726e-03],\n",
       "       [-9.87832003e-01,  1.54313263e-01, -1.72471505e-02,\n",
       "         8.81831838e-03,  3.51466736e-04]])"
      ]
     },
     "execution_count": 32,
     "metadata": {},
     "output_type": "execute_result"
    }
   ],
   "source": [
    "#특이값 분해\n",
    "u,s,vt = np.linalg.svd(cov_x)\n",
    "u"
   ]
  },
  {
   "cell_type": "code",
   "execution_count": 33,
   "metadata": {},
   "outputs": [
    {
     "data": {
      "text/plain": [
       "array([1.01109837e+08, 3.74919516e+05, 2.99553705e+04, 2.40312204e+03,\n",
       "       2.90022330e+00])"
      ]
     },
     "execution_count": 33,
     "metadata": {},
     "output_type": "execute_result"
    }
   ],
   "source": [
    "s"
   ]
  },
  {
   "cell_type": "code",
   "execution_count": 34,
   "metadata": {},
   "outputs": [
    {
     "data": {
      "text/plain": [
       "array([[-1.17248568e-02, -1.21545113e-03, -1.28461807e-02,\n",
       "        -1.54544362e-01, -9.87832003e-01],\n",
       "       [ 4.34541539e-02, -3.97729110e-03, -4.11504926e-02,\n",
       "        -9.86199762e-01,  1.54313263e-01],\n",
       "       [ 9.89273583e-01, -5.48368537e-03, -1.37240647e-01,\n",
       "         4.66395497e-02, -1.72471505e-02],\n",
       "       [-1.38967257e-01, -3.74537281e-02, -9.88869506e-01,\n",
       "         3.66695593e-02,  8.81831838e-03],\n",
       "       [-3.78876853e-04, -9.99274663e-01,  3.79962757e-02,\n",
       "         2.48287726e-03,  3.51466736e-04]])"
      ]
     },
     "execution_count": 34,
     "metadata": {},
     "output_type": "execute_result"
    }
   ],
   "source": [
    "vt"
   ]
  }
 ],
 "metadata": {
  "kernelspec": {
   "display_name": "py_3_10_4",
   "language": "python",
   "name": "python3"
  },
  "language_info": {
   "codemirror_mode": {
    "name": "ipython",
    "version": 3
   },
   "file_extension": ".py",
   "mimetype": "text/x-python",
   "name": "python",
   "nbconvert_exporter": "python",
   "pygments_lexer": "ipython3",
   "version": "3.10.4"
  },
  "orig_nbformat": 4
 },
 "nbformat": 4,
 "nbformat_minor": 2
}
