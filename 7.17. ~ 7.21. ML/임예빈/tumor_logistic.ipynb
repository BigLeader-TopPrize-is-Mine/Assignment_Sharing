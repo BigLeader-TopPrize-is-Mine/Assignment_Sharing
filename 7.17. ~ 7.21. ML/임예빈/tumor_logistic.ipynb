{
 "cells": [
  {
   "cell_type": "code",
   "execution_count": 25,
   "metadata": {},
   "outputs": [],
   "source": [
    "import sklearn"
   ]
  },
  {
   "cell_type": "code",
   "execution_count": 26,
   "metadata": {},
   "outputs": [],
   "source": [
    "import pandas as pd\n",
    "df = pd.read_csv('tumor.csv')\n",
    "df[\"diagnosis\"] = [0 if i == 'B' else 1 for i in df['diagnosis']]"
   ]
  },
  {
   "cell_type": "code",
   "execution_count": 27,
   "metadata": {},
   "outputs": [],
   "source": [
    "# feature와 target 분리\n",
    "features = ['radius_mean', 'texture_mean', 'perimeter_mean',\n",
    "       'area_mean', 'smoothness_mean', 'compactness_mean', 'concavity_mean',\n",
    "       'concave.points_mean', 'symmetry_mean', 'fractal_dimension_mean']\n",
    "\n",
    "X = df[features] # 행렬\n",
    "y = df['diagnosis'] # 벡터"
   ]
  },
  {
   "cell_type": "code",
   "execution_count": 28,
   "metadata": {},
   "outputs": [],
   "source": [
    "# 트레이닝/테스트 데이터 분할\n",
    "from sklearn.model_selection import train_test_split\n",
    "X_tn, X_te, y_tn, y_te = train_test_split(X, y, random_state=1004) # random 값을 고정하려고"
   ]
  },
  {
   "cell_type": "code",
   "execution_count": 29,
   "metadata": {},
   "outputs": [],
   "source": [
    "# 데이터 표준화\n",
    "from sklearn.preprocessing import StandardScaler\n",
    "std_scale = StandardScaler()\n",
    "std_scale.fit(X_tn)\n",
    "X_tn_std = std_scale.transform(X_tn)\n",
    "X_te_std = std_scale.transform(X_te)"
   ]
  },
  {
   "cell_type": "code",
   "execution_count": 30,
   "metadata": {},
   "outputs": [
    {
     "data": {
      "text/html": [
       "<style>#sk-container-id-3 {color: black;background-color: white;}#sk-container-id-3 pre{padding: 0;}#sk-container-id-3 div.sk-toggleable {background-color: white;}#sk-container-id-3 label.sk-toggleable__label {cursor: pointer;display: block;width: 100%;margin-bottom: 0;padding: 0.3em;box-sizing: border-box;text-align: center;}#sk-container-id-3 label.sk-toggleable__label-arrow:before {content: \"▸\";float: left;margin-right: 0.25em;color: #696969;}#sk-container-id-3 label.sk-toggleable__label-arrow:hover:before {color: black;}#sk-container-id-3 div.sk-estimator:hover label.sk-toggleable__label-arrow:before {color: black;}#sk-container-id-3 div.sk-toggleable__content {max-height: 0;max-width: 0;overflow: hidden;text-align: left;background-color: #f0f8ff;}#sk-container-id-3 div.sk-toggleable__content pre {margin: 0.2em;color: black;border-radius: 0.25em;background-color: #f0f8ff;}#sk-container-id-3 input.sk-toggleable__control:checked~div.sk-toggleable__content {max-height: 200px;max-width: 100%;overflow: auto;}#sk-container-id-3 input.sk-toggleable__control:checked~label.sk-toggleable__label-arrow:before {content: \"▾\";}#sk-container-id-3 div.sk-estimator input.sk-toggleable__control:checked~label.sk-toggleable__label {background-color: #d4ebff;}#sk-container-id-3 div.sk-label input.sk-toggleable__control:checked~label.sk-toggleable__label {background-color: #d4ebff;}#sk-container-id-3 input.sk-hidden--visually {border: 0;clip: rect(1px 1px 1px 1px);clip: rect(1px, 1px, 1px, 1px);height: 1px;margin: -1px;overflow: hidden;padding: 0;position: absolute;width: 1px;}#sk-container-id-3 div.sk-estimator {font-family: monospace;background-color: #f0f8ff;border: 1px dotted black;border-radius: 0.25em;box-sizing: border-box;margin-bottom: 0.5em;}#sk-container-id-3 div.sk-estimator:hover {background-color: #d4ebff;}#sk-container-id-3 div.sk-parallel-item::after {content: \"\";width: 100%;border-bottom: 1px solid gray;flex-grow: 1;}#sk-container-id-3 div.sk-label:hover label.sk-toggleable__label {background-color: #d4ebff;}#sk-container-id-3 div.sk-serial::before {content: \"\";position: absolute;border-left: 1px solid gray;box-sizing: border-box;top: 0;bottom: 0;left: 50%;z-index: 0;}#sk-container-id-3 div.sk-serial {display: flex;flex-direction: column;align-items: center;background-color: white;padding-right: 0.2em;padding-left: 0.2em;position: relative;}#sk-container-id-3 div.sk-item {position: relative;z-index: 1;}#sk-container-id-3 div.sk-parallel {display: flex;align-items: stretch;justify-content: center;background-color: white;position: relative;}#sk-container-id-3 div.sk-item::before, #sk-container-id-3 div.sk-parallel-item::before {content: \"\";position: absolute;border-left: 1px solid gray;box-sizing: border-box;top: 0;bottom: 0;left: 50%;z-index: -1;}#sk-container-id-3 div.sk-parallel-item {display: flex;flex-direction: column;z-index: 1;position: relative;background-color: white;}#sk-container-id-3 div.sk-parallel-item:first-child::after {align-self: flex-end;width: 50%;}#sk-container-id-3 div.sk-parallel-item:last-child::after {align-self: flex-start;width: 50%;}#sk-container-id-3 div.sk-parallel-item:only-child::after {width: 0;}#sk-container-id-3 div.sk-dashed-wrapped {border: 1px dashed gray;margin: 0 0.4em 0.5em 0.4em;box-sizing: border-box;padding-bottom: 0.4em;background-color: white;}#sk-container-id-3 div.sk-label label {font-family: monospace;font-weight: bold;display: inline-block;line-height: 1.2em;}#sk-container-id-3 div.sk-label-container {text-align: center;}#sk-container-id-3 div.sk-container {/* jupyter's `normalize.less` sets `[hidden] { display: none; }` but bootstrap.min.css set `[hidden] { display: none !important; }` so we also need the `!important` here to be able to override the default hidden behavior on the sphinx rendered scikit-learn.org. See: https://github.com/scikit-learn/scikit-learn/issues/21755 */display: inline-block !important;position: relative;}#sk-container-id-3 div.sk-text-repr-fallback {display: none;}</style><div id=\"sk-container-id-3\" class=\"sk-top-container\"><div class=\"sk-text-repr-fallback\"><pre>LogisticRegression()</pre><b>In a Jupyter environment, please rerun this cell to show the HTML representation or trust the notebook. <br />On GitHub, the HTML representation is unable to render, please try loading this page with nbviewer.org.</b></div><div class=\"sk-container\" hidden><div class=\"sk-item\"><div class=\"sk-estimator sk-toggleable\"><input class=\"sk-toggleable__control sk-hidden--visually\" id=\"sk-estimator-id-3\" type=\"checkbox\" checked><label for=\"sk-estimator-id-3\" class=\"sk-toggleable__label sk-toggleable__label-arrow\">LogisticRegression</label><div class=\"sk-toggleable__content\"><pre>LogisticRegression()</pre></div></div></div></div></div>"
      ],
      "text/plain": [
       "LogisticRegression()"
      ]
     },
     "execution_count": 30,
     "metadata": {},
     "output_type": "execute_result"
    }
   ],
   "source": [
    "# 로지스틱 회귀분석(L2 제약식)\n",
    "from sklearn.linear_model import LogisticRegression\n",
    "clf_logi_l2 = LogisticRegression(penalty='l2')\n",
    "clf_logi_l2.fit(X_tn_std, y_tn)"
   ]
  },
  {
   "cell_type": "code",
   "execution_count": 31,
   "metadata": {},
   "outputs": [
    {
     "name": "stdout",
     "output_type": "stream",
     "text": [
      "[[ 1.10696073  1.44877972  0.95219541  1.2755903   1.11339971 -0.52664765\n",
      "   1.21540132  1.47082896  0.34279816 -0.22630378]]\n",
      "[-0.91404725]\n"
     ]
    }
   ],
   "source": [
    "# 로지스틱 회귀분석 모형(L2 제약식) 추정 계수\n",
    "print(clf_logi_l2.coef_)\n",
    "print(clf_logi_l2.intercept_)"
   ]
  },
  {
   "cell_type": "code",
   "execution_count": 32,
   "metadata": {},
   "outputs": [
    {
     "name": "stdout",
     "output_type": "stream",
     "text": [
      "[0 1 0 0 1 1 1 0 1 0 1 0 1 0 0 0 0 0 1 0 0 1 1 1 0 1 0 0 0 1 0 0 1 1 0 1 0\n",
      " 1 1 0 1 1 0 1 0 0 1 1 1 1 0 0 0 0 0 1 0 0 0 1 0 1 0 0 0 1 0 0 0 1 0 0 0 1\n",
      " 0 0 1 0 0 1 1 0 0 1 0 1 1 0 0 1 0 1 1 0 1 1 0 0 0 0 0 0 0 1 1 0 0 0 0 0 1\n",
      " 1 1 0 1 1 0 0 1 1 1 0 0 1 1 1 1 0 1 0 0 0 0 1 0 0 0 0 1 0 1 0 0]\n"
     ]
    }
   ],
   "source": [
    "# 예측\n",
    "pred_logistic = clf_logi_l2.predict(X_te_std)\n",
    "print(pred_logistic)"
   ]
  },
  {
   "cell_type": "code",
   "execution_count": 33,
   "metadata": {},
   "outputs": [
    {
     "name": "stdout",
     "output_type": "stream",
     "text": [
      "[[9.98586288e-01 1.41371173e-03]\n",
      " [2.32794726e-02 9.76720527e-01]\n",
      " [6.26209347e-01 3.73790653e-01]\n",
      " [9.95374166e-01 4.62583414e-03]\n",
      " [1.29813865e-02 9.87018613e-01]\n",
      " [1.85307616e-04 9.99814692e-01]\n",
      " [2.46876199e-02 9.75312380e-01]\n",
      " [9.83196995e-01 1.68030055e-02]\n",
      " [1.24416543e-01 8.75583457e-01]\n",
      " [9.99740819e-01 2.59180824e-04]\n",
      " [8.09286882e-02 9.19071312e-01]\n",
      " [9.80420475e-01 1.95795253e-02]\n",
      " [5.94660494e-04 9.99405340e-01]\n",
      " [9.64865519e-01 3.51344810e-02]\n",
      " [9.98143873e-01 1.85612671e-03]\n",
      " [9.93556327e-01 6.44367320e-03]\n",
      " [9.86734552e-01 1.32654477e-02]\n",
      " [9.93182194e-01 6.81780576e-03]\n",
      " [6.64884589e-02 9.33511541e-01]\n",
      " [9.90154201e-01 9.84579926e-03]\n",
      " [9.92631073e-01 7.36892673e-03]\n",
      " [3.32311884e-04 9.99667688e-01]\n",
      " [2.24275412e-01 7.75724588e-01]\n",
      " [2.46355339e-01 7.53644661e-01]\n",
      " [9.21749041e-01 7.82509589e-02]\n",
      " [2.09412443e-04 9.99790588e-01]\n",
      " [9.95968706e-01 4.03129416e-03]\n",
      " [9.99946362e-01 5.36379206e-05]\n",
      " [8.75523457e-01 1.24476543e-01]\n",
      " [3.30290842e-01 6.69709158e-01]\n",
      " [9.76570195e-01 2.34298049e-02]\n",
      " [9.90942089e-01 9.05791128e-03]\n",
      " [1.13769389e-02 9.88623061e-01]\n",
      " [3.19822217e-02 9.68017778e-01]\n",
      " [9.99971303e-01 2.86966104e-05]\n",
      " [6.30252980e-02 9.36974702e-01]\n",
      " [9.94472881e-01 5.52711941e-03]\n",
      " [2.64967603e-10 1.00000000e+00]\n",
      " [1.41270082e-01 8.58729918e-01]\n",
      " [7.65049369e-01 2.34950631e-01]\n",
      " [3.65498638e-01 6.34501362e-01]\n",
      " [5.55147153e-08 9.99999944e-01]\n",
      " [9.79321981e-01 2.06780192e-02]\n",
      " [1.53229168e-02 9.84677083e-01]\n",
      " [9.99092993e-01 9.07007087e-04]\n",
      " [9.58459821e-01 4.15401793e-02]\n",
      " [3.63249840e-01 6.36750160e-01]\n",
      " [9.99361630e-04 9.99000638e-01]\n",
      " [3.22898365e-05 9.99967710e-01]\n",
      " [2.29423313e-05 9.99977058e-01]\n",
      " [9.14821430e-01 8.51785703e-02]\n",
      " [9.80601196e-01 1.93988041e-02]\n",
      " [9.95730897e-01 4.26910254e-03]\n",
      " [7.28591683e-01 2.71408317e-01]\n",
      " [8.88356587e-01 1.11643413e-01]\n",
      " [8.06304673e-04 9.99193695e-01]\n",
      " [9.32672531e-01 6.73274691e-02]\n",
      " [9.77125620e-01 2.28743800e-02]\n",
      " [9.99864904e-01 1.35096489e-04]\n",
      " [9.81130118e-05 9.99901887e-01]\n",
      " [9.57519447e-01 4.24805528e-02]\n",
      " [2.55840644e-05 9.99974416e-01]\n",
      " [9.99112449e-01 8.87550508e-04]\n",
      " [7.26617855e-01 2.73382145e-01]\n",
      " [9.97608891e-01 2.39110942e-03]\n",
      " [1.80405025e-03 9.98195950e-01]\n",
      " [9.94381693e-01 5.61830655e-03]\n",
      " [9.76112680e-01 2.38873204e-02]\n",
      " [9.78770480e-01 2.12295201e-02]\n",
      " [1.80769090e-02 9.81923091e-01]\n",
      " [9.87008359e-01 1.29916409e-02]\n",
      " [9.89644718e-01 1.03552817e-02]\n",
      " [9.99792640e-01 2.07359588e-04]\n",
      " [3.07448148e-04 9.99692552e-01]\n",
      " [9.96994511e-01 3.00548884e-03]\n",
      " [8.51714410e-01 1.48285590e-01]\n",
      " [4.02940654e-01 5.97059346e-01]\n",
      " [9.99571555e-01 4.28444737e-04]\n",
      " [6.01878376e-01 3.98121624e-01]\n",
      " [2.69278083e-02 9.73072192e-01]\n",
      " [1.12716565e-02 9.88728344e-01]\n",
      " [9.58532392e-01 4.14676083e-02]\n",
      " [9.99363999e-01 6.36001495e-04]\n",
      " [2.56289657e-07 9.99999744e-01]\n",
      " [9.43288606e-01 5.67113935e-02]\n",
      " [7.30148961e-04 9.99269851e-01]\n",
      " [6.47695832e-02 9.35230417e-01]\n",
      " [9.98693455e-01 1.30654517e-03]\n",
      " [9.75303432e-01 2.46965678e-02]\n",
      " [3.72900530e-04 9.99627099e-01]\n",
      " [9.87722401e-01 1.22775989e-02]\n",
      " [4.63614888e-03 9.95363851e-01]\n",
      " [3.73768199e-01 6.26231801e-01]\n",
      " [9.97018307e-01 2.98169323e-03]\n",
      " [3.62969480e-03 9.96370305e-01]\n",
      " [6.95451177e-03 9.93045488e-01]\n",
      " [9.96846267e-01 3.15373327e-03]\n",
      " [9.79061311e-01 2.09386892e-02]\n",
      " [9.98515620e-01 1.48438000e-03]\n",
      " [9.75130826e-01 2.48691737e-02]\n",
      " [7.92547001e-01 2.07452999e-01]\n",
      " [9.98683870e-01 1.31613004e-03]\n",
      " [9.95866291e-01 4.13370852e-03]\n",
      " [3.49133989e-02 9.65086601e-01]\n",
      " [3.40201532e-02 9.65979847e-01]\n",
      " [9.94116773e-01 5.88322678e-03]\n",
      " [9.91661781e-01 8.33821878e-03]\n",
      " [9.98017800e-01 1.98220011e-03]\n",
      " [9.99857928e-01 1.42071943e-04]\n",
      " [9.99206483e-01 7.93517180e-04]\n",
      " [4.59619774e-01 5.40380226e-01]\n",
      " [7.12457635e-02 9.28754237e-01]\n",
      " [1.09422974e-04 9.99890577e-01]\n",
      " [9.94348668e-01 5.65133190e-03]\n",
      " [3.24529862e-03 9.96754701e-01]\n",
      " [3.37972850e-01 6.62027150e-01]\n",
      " [9.93633176e-01 6.36682372e-03]\n",
      " [7.91012047e-01 2.08987953e-01]\n",
      " [2.48765920e-04 9.99751234e-01]\n",
      " [2.53955072e-01 7.46044928e-01]\n",
      " [2.01103378e-09 9.99999998e-01]\n",
      " [9.82480790e-01 1.75192101e-02]\n",
      " [9.99746979e-01 2.53020946e-04]\n",
      " [3.31822436e-09 9.99999997e-01]\n",
      " [2.37767582e-03 9.97622324e-01]\n",
      " [4.85294697e-02 9.51470530e-01]\n",
      " [6.53035082e-02 9.34696492e-01]\n",
      " [8.74581360e-01 1.25418640e-01]\n",
      " [2.56268058e-03 9.97437319e-01]\n",
      " [9.98843782e-01 1.15621794e-03]\n",
      " [6.40076514e-01 3.59923486e-01]\n",
      " [9.99957864e-01 4.21360863e-05]\n",
      " [9.99629879e-01 3.70120768e-04]\n",
      " [2.62629933e-01 7.37370067e-01]\n",
      " [9.92395951e-01 7.60404885e-03]\n",
      " [9.99048691e-01 9.51309286e-04]\n",
      " [9.41494128e-01 5.85058717e-02]\n",
      " [9.24968513e-01 7.50314871e-02]\n",
      " [2.43316519e-04 9.99756683e-01]\n",
      " [9.99282043e-01 7.17957489e-04]\n",
      " [5.21772113e-02 9.47822789e-01]\n",
      " [9.99824613e-01 1.75386884e-04]\n",
      " [8.67688525e-01 1.32311475e-01]]\n"
     ]
    }
   ],
   "source": [
    "# 확률값으로 예측\n",
    "pred_proba = clf_logi_l2.predict_proba(X_te_std)\n",
    "print(pred_proba)"
   ]
  },
  {
   "cell_type": "code",
   "execution_count": 35,
   "metadata": {},
   "outputs": [
    {
     "name": "stdout",
     "output_type": "stream",
     "text": [
      "0.9121835443037974\n"
     ]
    }
   ],
   "source": [
    "# 리콜\n",
    "from sklearn.metrics import recall_score\n",
    "recall = recall_score(y_te, pred_logistic, average='macro')\n",
    "print(recall)"
   ]
  }
 ],
 "metadata": {
  "kernelspec": {
   "display_name": "bigleader",
   "language": "python",
   "name": "python3"
  },
  "language_info": {
   "codemirror_mode": {
    "name": "ipython",
    "version": 3
   },
   "file_extension": ".py",
   "mimetype": "text/x-python",
   "name": "python",
   "nbconvert_exporter": "python",
   "pygments_lexer": "ipython3",
   "version": "3.10.9"
  },
  "orig_nbformat": 4
 },
 "nbformat": 4,
 "nbformat_minor": 2
}
