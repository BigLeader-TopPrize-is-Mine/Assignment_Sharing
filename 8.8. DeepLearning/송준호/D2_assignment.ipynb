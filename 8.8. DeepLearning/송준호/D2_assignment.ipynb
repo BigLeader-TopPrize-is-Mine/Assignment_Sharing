{
 "cells": [
  {
   "cell_type": "code",
   "execution_count": 98,
   "metadata": {},
   "outputs": [
    {
     "name": "stdout",
     "output_type": "stream",
     "text": [
      "current device is : cpu\n"
     ]
    }
   ],
   "source": [
    "#XOR Dataset\n",
    "\n",
    "import torch\n",
    "import torch.nn as nn\n",
    "\n",
    "device = 'cuda' if torch.cuda.is_available() else \"cpu\"\n",
    "print(f'current device is : {device}')"
   ]
  },
  {
   "cell_type": "code",
   "execution_count": 99,
   "metadata": {},
   "outputs": [],
   "source": [
    "#### Multi-layered Perceptron 해결\n",
    "\n",
    "x = torch.FloatTensor([[0,0],[0,1],[1,0],[1,1]]).to(device)\n",
    "y = torch.FloatTensor([[0],[1],[1],[0]]).to(device)\n",
    "\n",
    "model = nn.Sequential(nn.Linear(2,8, bias=True), nn.Sigmoid(),#input layer\n",
    "                      nn.Linear(8,16,bias=True), nn.Sigmoid(),#hidden layer 1\n",
    "                      nn.Linear(16,16,bias=True),nn.Sigmoid(),\n",
    "                      nn.Linear(16,1,bias=True),nn.Sigmoid() #output layer\n",
    "                    ).to(device)"
   ]
  },
  {
   "cell_type": "code",
   "execution_count": 100,
   "metadata": {},
   "outputs": [],
   "source": [
    "criterion = torch.nn.BCELoss().to(device)\n",
    "optimizer = torch.optim.SGD(model.parameters(), lr=0.8)"
   ]
  },
  {
   "cell_type": "code",
   "execution_count": 101,
   "metadata": {},
   "outputs": [
    {
     "name": "stdout",
     "output_type": "stream",
     "text": [
      "0 0.6976528167724609\n",
      "1000 0.6931346654891968\n",
      "2000 0.6931260824203491\n",
      "3000 0.6931111812591553\n",
      "4000 0.693077802658081\n",
      "5000 0.6929648518562317\n",
      "6000 0.6916773915290833\n",
      "7000 0.004170533269643784\n",
      "8000 0.0008223067270591855\n",
      "9000 0.0004326227935962379\n",
      "10000 0.000288752606138587\n"
     ]
    }
   ],
   "source": [
    "for epoch in range(10001) :\n",
    "    y_pred = model(x)\n",
    "    loss = criterion(y_pred,y)\n",
    "\n",
    "    loss.backward()\n",
    "\n",
    "    optimizer.step()\n",
    "    optimizer.zero_grad()\n",
    "\n",
    "    if epoch % 1000 == 0 :\n",
    "        print(epoch, loss.item())"
   ]
  },
  {
   "cell_type": "code",
   "execution_count": 97,
   "metadata": {},
   "outputs": [
    {
     "name": "stdout",
     "output_type": "stream",
     "text": [
      "1.0\n",
      "tensor([[0.],\n",
      "        [1.],\n",
      "        [1.],\n",
      "        [0.]])\n"
     ]
    }
   ],
   "source": [
    "with torch.no_grad():\n",
    "    \n",
    "    y_hat = (y_pred > 0.5).float()\n",
    "    accuracy = (y_hat == y).float().mean()\n",
    "    \n",
    "    print(accuracy.item())\n",
    "    print(y_hat.detach())"
   ]
  },
  {
   "cell_type": "code",
   "execution_count": null,
   "metadata": {},
   "outputs": [],
   "source": []
  }
 ],
 "metadata": {
  "kernelspec": {
   "display_name": "py_3_10_4",
   "language": "python",
   "name": "python3"
  },
  "language_info": {
   "codemirror_mode": {
    "name": "ipython",
    "version": 3
   },
   "file_extension": ".py",
   "mimetype": "text/x-python",
   "name": "python",
   "nbconvert_exporter": "python",
   "pygments_lexer": "ipython3",
   "version": "3.10.4"
  },
  "orig_nbformat": 4
 },
 "nbformat": 4,
 "nbformat_minor": 2
}
