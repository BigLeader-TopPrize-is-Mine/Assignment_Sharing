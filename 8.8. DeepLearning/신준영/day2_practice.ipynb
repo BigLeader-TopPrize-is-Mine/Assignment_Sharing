{
 "cells": [
  {
   "cell_type": "markdown",
   "metadata": {},
   "source": [
    "Pytorch : Wine dataset"
   ]
  },
  {
   "cell_type": "code",
   "execution_count": null,
   "metadata": {},
   "outputs": [],
   "source": [
    "import torch\n",
    "import numpy as np\n",
    "import pandas as pd\n",
    "import math\n",
    "\n",
    "\n",
    "df=pd.read_csv('C:/Users/sec/Desktop/bigleader/deeplearning/data/wine.csv')\n",
    "df.head(3)"
   ]
  },
  {
   "cell_type": "markdown",
   "metadata": {},
   "source": [
    "Custom Dataset 구축\n",
    "1. custom dataset Class로 'Dataset' 구축\n",
    "2. DataLoader로 구축"
   ]
  },
  {
   "cell_type": "code",
   "execution_count": null,
   "metadata": {},
   "outputs": [],
   "source": [
    "print(df.values)\n",
    "print(df.values.shape)"
   ]
  },
  {
   "cell_type": "code",
   "execution_count": null,
   "metadata": {},
   "outputs": [],
   "source": [
    "from torch.utils.data import Dataset, DataLoader\n",
    "\n",
    "# Dataset class로 바꾸기\n",
    "class WineDataset(Dataset):\n",
    "\n",
    "    def __init__(self):\n",
    "        wine=pd.read_csv('C:/Users/sec/Desktop/bigleader/deeplearning/data/wine.csv')\n",
    "        # torch.float32 형태여야 에러 안 남\n",
    "        wine=df.values.astype(np.float32)\n",
    "        self.n_samples=wine.shape[0]\n",
    "\n",
    "        # np 데이터 torch로 변경\n",
    "        # wine[:, :] 왼쪽 전체, 뒤에는 인덱스 슬라이싱\n",
    "        self.X_data=torch.from_numpy(wine[:, 1:])\n",
    "        # Y값이 하나지만, torch라서 2차원으로 바꿔야함.\n",
    "        self.y_data=torch.from_numpy(wine[:, [0]])\n",
    "\n",
    "    def __getitem__(self, index):\n",
    "        return self.X_data[index], self.y_data[index]\n",
    "\n",
    "    def __len__(self):\n",
    "        return self.n_samples"
   ]
  },
  {
   "cell_type": "code",
   "execution_count": null,
   "metadata": {},
   "outputs": [],
   "source": [
    "dataset = WineDataset()\n",
    "dataset"
   ]
  },
  {
   "cell_type": "code",
   "execution_count": null,
   "metadata": {},
   "outputs": [],
   "source": [
    "# X_data와 y_data로 구성\n",
    "dataset[0]"
   ]
  },
  {
   "cell_type": "code",
   "execution_count": null,
   "metadata": {},
   "outputs": [],
   "source": [
    "features, labels = dataset[0]\n",
    "print(features, labels)"
   ]
  },
  {
   "cell_type": "code",
   "execution_count": null,
   "metadata": {},
   "outputs": [],
   "source": [
    "# shuffle을 통해 중복 학습을 막고, overfitting을 방지\n",
    "train_loader = DataLoader(dataset = dataset, batch_size=16, shuffle=True)\n",
    "print(train_loader)\n",
    "print(next(iter(train_loader)))"
   ]
  },
  {
   "cell_type": "markdown",
   "metadata": {},
   "source": [
    "Pytoch: XOR Problem"
   ]
  },
  {
   "cell_type": "markdown",
   "metadata": {},
   "source": [
    "1. XOR Dataset"
   ]
  },
  {
   "cell_type": "code",
   "execution_count": 40,
   "metadata": {},
   "outputs": [],
   "source": [
    "import torch\n",
    "import torch.nn as nn\n",
    "\n",
    "device= 'cuda' if torch.cuda.is_available() else 'cpu'"
   ]
  },
  {
   "cell_type": "code",
   "execution_count": 41,
   "metadata": {},
   "outputs": [
    {
     "name": "stdout",
     "output_type": "stream",
     "text": [
      "tensor([[0., 0.],\n",
      "        [0., 1.],\n",
      "        [1., 0.],\n",
      "        [1., 1.]])\n",
      "tensor([[0.],\n",
      "        [1.],\n",
      "        [1.],\n",
      "        [0.]])\n",
      "torch.Size([4, 2])\n",
      "torch.Size([4, 1])\n"
     ]
    }
   ],
   "source": [
    "X=torch.FloatTensor([[0,0],[0,1],[1,0],[1,1]]).to(device)\n",
    "Y=torch.FloatTensor([[0],[1],[1],[0]]).to(device)\n",
    "print(X, Y, sep='\\n')\n",
    "print(X.shape, Y.shape, sep='\\n')"
   ]
  },
  {
   "cell_type": "markdown",
   "metadata": {},
   "source": [
    "2. Perceptron 학습"
   ]
  },
  {
   "cell_type": "code",
   "execution_count": 42,
   "metadata": {},
   "outputs": [
    {
     "name": "stdout",
     "output_type": "stream",
     "text": [
      "0 0.7100017666816711\n",
      "1000 0.693149745464325\n",
      "2000 0.6931471824645996\n",
      "3000 0.6931471824645996\n",
      "4000 0.6931471824645996\n",
      "5000 0.6931471824645996\n",
      "6000 0.6931471824645996\n",
      "7000 0.6931471824645996\n",
      "8000 0.6931471824645996\n",
      "9000 0.6931471824645996\n",
      "10000 0.6931471824645996\n"
     ]
    }
   ],
   "source": [
    "linear=nn.Linear(X.shape[1], Y.shape[1], bias=True)\n",
    "sigmoid=nn.Sigmoid()\n",
    "model=nn.Sequential(linear, sigmoid).to(device)\n",
    "\n",
    "# 0, 1로 나누는 이진 분류\n",
    "criterion = torch.nn.BCELoss().to(device)\n",
    "optimizer = torch.optim.SGD(model.parameters(), lr=0.1)\n",
    "\n",
    "# training\n",
    "for epoch in range(10001):\n",
    "    y_pred = model(X)\n",
    "    loss = criterion(y_pred, Y)\n",
    "\n",
    "    loss.backward()\n",
    "    optimizer.step()\n",
    "    optimizer.zero_grad()\n",
    "\n",
    "    if epoch % 1000==0:\n",
    "        print(epoch, loss.item())\n",
    "    "
   ]
  },
  {
   "cell_type": "code",
   "execution_count": 43,
   "metadata": {},
   "outputs": [
    {
     "name": "stdout",
     "output_type": "stream",
     "text": [
      "tensor([[0.],\n",
      "        [1.],\n",
      "        [1.],\n",
      "        [0.]])\n",
      "tensor([[0.],\n",
      "        [0.],\n",
      "        [0.],\n",
      "        [0.]])\n",
      "Accuracy: 0.5\n"
     ]
    }
   ],
   "source": [
    "# Prediction\n",
    "with torch.no_grad():\n",
    "    y_hat = (y_pred > 0.5).float()\n",
    "    accuracy = (y_hat == Y).float().mean()\n",
    "\n",
    "    print(Y)\n",
    "    print(y_hat)\n",
    "\n",
    "    print('Accuracy:', accuracy.item())"
   ]
  },
  {
   "cell_type": "code",
   "execution_count": 44,
   "metadata": {},
   "outputs": [
    {
     "data": {
      "text/plain": [
       "tensor([[0.],\n",
       "        [1.],\n",
       "        [1.],\n",
       "        [0.]])"
      ]
     },
     "execution_count": 44,
     "metadata": {},
     "output_type": "execute_result"
    }
   ],
   "source": [
    "Y.detach()"
   ]
  },
  {
   "cell_type": "markdown",
   "metadata": {},
   "source": [
    "Multi-layered Perceptron 해결"
   ]
  },
  {
   "cell_type": "code",
   "execution_count": 45,
   "metadata": {},
   "outputs": [],
   "source": [
    "# model 구현\n",
    "model = nn.Sequential(\n",
    "    nn.Linear(2, 8, bias=True),   # input layer\n",
    "    nn.Sigmoid(),\n",
    "    nn.Linear(8, 16, bias=True),  # layer 1, 2\n",
    "    nn.Sigmoid(),\n",
    "    nn.Linear(16, 16, bias=True), # layer 2, 3\n",
    "    nn.Sigmoid(),\n",
    "    nn.Linear(16, 1, bias=True),   # layer 3, output layer\n",
    "    nn.Sigmoid()).to(device)"
   ]
  },
  {
   "cell_type": "code",
   "execution_count": 46,
   "metadata": {},
   "outputs": [
    {
     "name": "stdout",
     "output_type": "stream",
     "text": [
      "0 0.6947944164276123\n",
      "1000 0.6931302547454834\n",
      "2000 0.693111777305603\n",
      "3000 0.6930837631225586\n",
      "4000 0.6930321455001831\n",
      "5000 0.6929085850715637\n",
      "6000 0.6924196481704712\n",
      "7000 0.6773561835289001\n",
      "8000 0.0024088521022349596\n",
      "9000 0.0008361625950783491\n",
      "10000 0.00048682658234611154\n"
     ]
    }
   ],
   "source": [
    "# 0, 1로 나누는 이진 분류\n",
    "criterion = torch.nn.BCELoss().to(device)\n",
    "optimizer = torch.optim.SGD(model.parameters(), lr=0.5)\n",
    "\n",
    "# training\n",
    "for epoch in range(10001):\n",
    "    y_pred = model(X)\n",
    "    loss = criterion(y_pred, Y)\n",
    "\n",
    "    loss.backward()\n",
    "    optimizer.step()\n",
    "    optimizer.zero_grad()\n",
    "\n",
    "    if epoch % 1000==0:\n",
    "        print(epoch, loss.item())\n",
    "    "
   ]
  },
  {
   "cell_type": "code",
   "execution_count": 47,
   "metadata": {},
   "outputs": [
    {
     "name": "stdout",
     "output_type": "stream",
     "text": [
      "tensor([[0.],\n",
      "        [1.],\n",
      "        [1.],\n",
      "        [0.]])\n",
      "Accuracy: 1.0\n"
     ]
    }
   ],
   "source": [
    "# Prediction\n",
    "with torch.no_grad():\n",
    "    y_hat = (y_pred > 0.5).float()\n",
    "    accuracy = (y_hat == Y).float().mean()\n",
    "\n",
    "    print(y_hat)\n",
    "\n",
    "    print('Accuracy:', accuracy.item())"
   ]
  }
 ],
 "metadata": {
  "kernelspec": {
   "display_name": "Python 3",
   "language": "python",
   "name": "python3"
  },
  "language_info": {
   "codemirror_mode": {
    "name": "ipython",
    "version": 3
   },
   "file_extension": ".py",
   "mimetype": "text/x-python",
   "name": "python",
   "nbconvert_exporter": "python",
   "pygments_lexer": "ipython3",
   "version": "3.9.13"
  },
  "orig_nbformat": 4
 },
 "nbformat": 4,
 "nbformat_minor": 2
}
